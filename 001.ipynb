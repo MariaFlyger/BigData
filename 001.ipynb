{
 "cells": [
  {
   "cell_type": "code",
   "execution_count": 22,
   "id": "ec3b04d0-0101-4ebd-abf6-5ba6293cf2df",
   "metadata": {},
   "outputs": [],
   "source": [
    "import pandas as pd\n",
    "import numpy as np\n",
    "\n",
    "from sklearn.model_selection import train_test_split\n",
    "from sklearn.model_selection import cross_val_score\n",
    "from sklearn.linear_model import LinearRegression\n",
    "\n",
    "import matplotlib.pyplot as plt\n",
    "from sklearn.pipeline import Pipeline\n",
    "from sklearn.preprocessing import PolynomialFeatures\n",
    "from sklearn.preprocessing import StandardScaler\n",
    "\n",
    "#treeClassifier\n",
    "from sklearn import tree\n",
    "from sklearn.model_selection import train_test_split\n",
    "from sklearn.tree import DecisionTreeClassifier\n",
    "\n",
    "#Randomforrest\n",
    "from sklearn.ensemble import RandomForestClassifier\n",
    "\n",
    "#Import for GridSearch\n",
    "from sklearn.pipeline import make_pipeline\n",
    "from sklearn.model_selection import GridSearchCV\n",
    "from sklearn.feature_extraction.text import TfidfVectorizer \n",
    "\n",
    "#Import adaboostedtree\n",
    "from sklearn.ensemble import AdaBoostClassifier\n",
    "\n",
    "#Import logistic regression\n",
    "from sklearn.linear_model import LinearRegression\n",
    "from sklearn.linear_model import LogisticRegression"
   ]
  },
  {
   "cell_type": "code",
   "execution_count": 4,
   "id": "7e7f0c26-39da-4bfe-b541-44eb8d025e96",
   "metadata": {},
   "outputs": [
    {
     "name": "stdout",
     "output_type": "stream",
     "text": [
      "<class 'pandas.core.frame.DataFrame'>\n",
      "RangeIndex: 19158 entries, 0 to 19157\n",
      "Data columns (total 14 columns):\n",
      " #   Column                  Non-Null Count  Dtype  \n",
      "---  ------                  --------------  -----  \n",
      " 0   enrollee_id             19158 non-null  int64  \n",
      " 1   city                    19158 non-null  object \n",
      " 2   city_development_index  19158 non-null  float64\n",
      " 3   gender                  14650 non-null  object \n",
      " 4   relevent_experience     19158 non-null  object \n",
      " 5   enrolled_university     18772 non-null  object \n",
      " 6   education_level         18698 non-null  object \n",
      " 7   major_discipline        16345 non-null  object \n",
      " 8   experience              19093 non-null  object \n",
      " 9   company_size            13220 non-null  object \n",
      " 10  company_type            13018 non-null  object \n",
      " 11  last_new_job            18735 non-null  object \n",
      " 12  training_hours          19158 non-null  int64  \n",
      " 13  target                  19158 non-null  float64\n",
      "dtypes: float64(2), int64(2), object(10)\n",
      "memory usage: 2.0+ MB\n"
     ]
    }
   ],
   "source": [
    "#df_test = pd.read_csv('aug_test.csv')\n",
    "df_train = pd.read_csv('aug_train.csv')\n",
    "df_train.info()"
   ]
  },
  {
   "cell_type": "code",
   "execution_count": 5,
   "id": "a0d70a69-61cd-4039-99d5-7032c8a10594",
   "metadata": {},
   "outputs": [],
   "source": [
    "#Only do this for numbers\n",
    "\n",
    "#should we do something different here? Experience=Experience in years\n",
    "    \n",
    "def experienceN(x):\n",
    "    if x=='<1'      :   return 0\n",
    "    if x=='1'       :   return 1 \n",
    "    if x=='2'       :   return 2 \n",
    "    if x=='3'       :   return 3 \n",
    "    if x=='4'       :   return 4 \n",
    "    if x=='5'       :   return 5\n",
    "    if x=='6'       :   return 6\n",
    "    if x=='7'       :   return 7\n",
    "    if x=='8'       :   return 8 \n",
    "    if x=='9'       :   return 9 \n",
    "    if x=='10'      :   return 10 \n",
    "    if x=='11'      :   return 11\n",
    "    if x=='12'      :   return 12\n",
    "    if x=='13'      :   return 13 \n",
    "    if x=='14'      :   return 1\n",
    "    if x=='19'      :   return 19 \n",
    "    if x=='20'      :   return 20 \n",
    "    if x=='>20'     :   return 21 \n",
    "    \n",
    "def companySizeN(x):\n",
    "    if x=='<10'          :   return 0\n",
    "    if x=='10/49'        :   return 1 \n",
    "    if x=='100-500'      :   return 2 \n",
    "    if x=='1000-4999'    :   return 3 \n",
    "    if x=='10000+'       :   return 4 \n",
    "    if x=='50-99'        :   return 5 \n",
    "    if x=='500-999'      :   return 6 \n",
    "    if x=='5000-9999'    :   return 7\n",
    "    \n",
    "#We set a boundary on >4 = 1 and <4 = 0\n",
    "def lastNewJobN(x):\n",
    "    if x=='never'        :   return 0\n",
    "    if x=='1'            :   return 0\n",
    "    if x=='2'            :   return 0\n",
    "    if x=='3'            :   return 0\n",
    "    if x=='4'            :   return 1\n",
    "    if x=='>4'           :   return 1"
   ]
  },
  {
   "cell_type": "code",
   "execution_count": 6,
   "id": "7c0244a5-4306-41d7-88d1-c8ef160df485",
   "metadata": {},
   "outputs": [],
   "source": [
    "df_train['experience'] = df_train['experience'].apply(experienceN)\n",
    "df_train['company_size'] = df_train['company_size'].apply(companySizeN)\n",
    "df_train['last_new_job'] = df_train['last_new_job'].apply(lastNewJobN)"
   ]
  },
  {
   "cell_type": "code",
   "execution_count": 7,
   "id": "0e219be6-1867-4622-862b-87e25b11716b",
   "metadata": {},
   "outputs": [
    {
     "data": {
      "text/plain": [
       "enrollee_id                  0\n",
       "city                         0\n",
       "city_development_index       0\n",
       "gender                    4508\n",
       "relevent_experience          0\n",
       "enrolled_university        386\n",
       "education_level            460\n",
       "major_discipline          2813\n",
       "experience                   0\n",
       "company_size                 0\n",
       "company_type              6140\n",
       "last_new_job                 0\n",
       "training_hours               0\n",
       "target                       0\n",
       "dtype: int64"
      ]
     },
     "execution_count": 7,
     "metadata": {},
     "output_type": "execute_result"
    }
   ],
   "source": [
    "df_train = df_train.fillna(df_train.mean(numeric_only=True))\n",
    "df_train.isna().sum()"
   ]
  },
  {
   "cell_type": "code",
   "execution_count": 8,
   "id": "0f050abc",
   "metadata": {},
   "outputs": [
    {
     "data": {
      "text/plain": [
       "Male      13221\n",
       "Female     1238\n",
       "Other       191\n",
       "Name: gender, dtype: int64"
      ]
     },
     "execution_count": 8,
     "metadata": {},
     "output_type": "execute_result"
    }
   ],
   "source": [
    "df_train['gender'].value_counts()"
   ]
  },
  {
   "cell_type": "code",
   "execution_count": 9,
   "id": "5f2a0548",
   "metadata": {},
   "outputs": [],
   "source": [
    "df_train['gender'] = df_train['gender'].fillna('Male', limit = 4057)\n",
    "df_train['gender'] = df_train['gender'].fillna('Female', limit = 383)\n",
    "df_train['gender'] = df_train['gender'].fillna('Other')"
   ]
  },
  {
   "cell_type": "code",
   "execution_count": 10,
   "id": "810d7e46",
   "metadata": {},
   "outputs": [],
   "source": [
    "df_train['enrolled_university'].fillna(value = 'no_enrollment', inplace = True)"
   ]
  },
  {
   "cell_type": "code",
   "execution_count": 11,
   "id": "6ece717f",
   "metadata": {},
   "outputs": [],
   "source": [
    "df_train['education_level'].fillna(value = 'Graduate', inplace = True)"
   ]
  },
  {
   "cell_type": "code",
   "execution_count": 12,
   "id": "7ff2345e",
   "metadata": {},
   "outputs": [],
   "source": [
    "df_train['major_discipline'].fillna(value = 'STEM', inplace = True)"
   ]
  },
  {
   "cell_type": "code",
   "execution_count": 13,
   "id": "7b7032a8",
   "metadata": {},
   "outputs": [
    {
     "data": {
      "text/plain": [
       "enrollee_id               0\n",
       "city                      0\n",
       "city_development_index    0\n",
       "gender                    0\n",
       "relevent_experience       0\n",
       "enrolled_university       0\n",
       "education_level           0\n",
       "major_discipline          0\n",
       "experience                0\n",
       "company_size              0\n",
       "company_type              0\n",
       "last_new_job              0\n",
       "training_hours            0\n",
       "target                    0\n",
       "dtype: int64"
      ]
     },
     "execution_count": 13,
     "metadata": {},
     "output_type": "execute_result"
    }
   ],
   "source": [
    "df_train['company_type'].fillna(value = 'Pvt Ltd', inplace = True)\n",
    "df_train.isna().sum()"
   ]
  },
  {
   "cell_type": "code",
   "execution_count": 14,
   "id": "c0c6d168",
   "metadata": {},
   "outputs": [],
   "source": [
    "df_train = df_train.drop(['target', 'enrollee_id', 'training_hours'], axis = 1)"
   ]
  },
  {
   "cell_type": "code",
   "execution_count": 15,
   "id": "8dace331",
   "metadata": {},
   "outputs": [],
   "source": [
    "df_train['last_new_job'] = df_train['last_new_job'].astype(int)"
   ]
  },
  {
   "cell_type": "code",
   "execution_count": 16,
   "id": "97f93fd3",
   "metadata": {},
   "outputs": [],
   "source": [
    "df_train = pd.get_dummies(df_train)\n",
    "Y = df_train['last_new_job']\n",
    "X = df_train.drop(columns=['last_new_job'])\n",
    "X_train, X_test, Y_train, Y_test = train_test_split(X, Y, test_size=0.2, random_state=42)"
   ]
  },
  {
   "cell_type": "markdown",
   "id": "91c0052a",
   "metadata": {},
   "source": [
    "Decision tree classifier"
   ]
  },
  {
   "cell_type": "code",
   "execution_count": 18,
   "id": "d81ee0cf",
   "metadata": {},
   "outputs": [
    {
     "name": "stdout",
     "output_type": "stream",
     "text": [
      "<class 'pandas.core.frame.DataFrame'>\n",
      "Int64Index: 15326 entries, 13330 to 15795\n",
      "Data columns (total 8 columns):\n",
      " #   Column               Non-Null Count  Dtype  \n",
      "---  ------               --------------  -----  \n",
      " 0   gender               15326 non-null  object \n",
      " 1   relevent_experience  15326 non-null  object \n",
      " 2   enrolled_university  15326 non-null  object \n",
      " 3   education_level      15326 non-null  object \n",
      " 4   major_discipline     15326 non-null  object \n",
      " 5   experience           15326 non-null  float64\n",
      " 6   company_size         15326 non-null  float64\n",
      " 7   company_type         15326 non-null  object \n",
      "dtypes: float64(2), object(6)\n",
      "memory usage: 1.1+ MB\n"
     ]
    },
    {
     "data": {
      "text/html": [
       "<div>\n",
       "<style scoped>\n",
       "    .dataframe tbody tr th:only-of-type {\n",
       "        vertical-align: middle;\n",
       "    }\n",
       "\n",
       "    .dataframe tbody tr th {\n",
       "        vertical-align: top;\n",
       "    }\n",
       "\n",
       "    .dataframe thead th {\n",
       "        text-align: right;\n",
       "    }\n",
       "</style>\n",
       "<table border=\"1\" class=\"dataframe\">\n",
       "  <thead>\n",
       "    <tr style=\"text-align: right;\">\n",
       "      <th></th>\n",
       "      <th>gender</th>\n",
       "      <th>relevent_experience</th>\n",
       "      <th>enrolled_university</th>\n",
       "      <th>education_level</th>\n",
       "      <th>major_discipline</th>\n",
       "      <th>experience</th>\n",
       "      <th>company_size</th>\n",
       "      <th>company_type</th>\n",
       "    </tr>\n",
       "  </thead>\n",
       "  <tbody>\n",
       "    <tr>\n",
       "      <th>13330</th>\n",
       "      <td>Male</td>\n",
       "      <td>No relevent experience</td>\n",
       "      <td>no_enrollment</td>\n",
       "      <td>High School</td>\n",
       "      <td>STEM</td>\n",
       "      <td>2.0</td>\n",
       "      <td>3.27466</td>\n",
       "      <td>Pvt Ltd</td>\n",
       "    </tr>\n",
       "    <tr>\n",
       "      <th>18074</th>\n",
       "      <td>Male</td>\n",
       "      <td>Has relevent experience</td>\n",
       "      <td>no_enrollment</td>\n",
       "      <td>Masters</td>\n",
       "      <td>STEM</td>\n",
       "      <td>6.0</td>\n",
       "      <td>3.00000</td>\n",
       "      <td>Pvt Ltd</td>\n",
       "    </tr>\n",
       "    <tr>\n",
       "      <th>366</th>\n",
       "      <td>Male</td>\n",
       "      <td>No relevent experience</td>\n",
       "      <td>no_enrollment</td>\n",
       "      <td>Graduate</td>\n",
       "      <td>STEM</td>\n",
       "      <td>3.0</td>\n",
       "      <td>3.27466</td>\n",
       "      <td>Pvt Ltd</td>\n",
       "    </tr>\n",
       "    <tr>\n",
       "      <th>10662</th>\n",
       "      <td>Male</td>\n",
       "      <td>No relevent experience</td>\n",
       "      <td>no_enrollment</td>\n",
       "      <td>High School</td>\n",
       "      <td>STEM</td>\n",
       "      <td>3.0</td>\n",
       "      <td>3.27466</td>\n",
       "      <td>Pvt Ltd</td>\n",
       "    </tr>\n",
       "    <tr>\n",
       "      <th>13974</th>\n",
       "      <td>Male</td>\n",
       "      <td>Has relevent experience</td>\n",
       "      <td>Full time course</td>\n",
       "      <td>Graduate</td>\n",
       "      <td>STEM</td>\n",
       "      <td>4.0</td>\n",
       "      <td>3.27466</td>\n",
       "      <td>Pvt Ltd</td>\n",
       "    </tr>\n",
       "  </tbody>\n",
       "</table>\n",
       "</div>"
      ],
      "text/plain": [
       "      gender      relevent_experience enrolled_university education_level  \\\n",
       "13330   Male   No relevent experience       no_enrollment     High School   \n",
       "18074   Male  Has relevent experience       no_enrollment         Masters   \n",
       "366     Male   No relevent experience       no_enrollment        Graduate   \n",
       "10662   Male   No relevent experience       no_enrollment     High School   \n",
       "13974   Male  Has relevent experience    Full time course        Graduate   \n",
       "\n",
       "      major_discipline  experience  company_size company_type  \n",
       "13330             STEM         2.0       3.27466      Pvt Ltd  \n",
       "18074             STEM         6.0       3.00000      Pvt Ltd  \n",
       "366               STEM         3.0       3.27466      Pvt Ltd  \n",
       "10662             STEM         3.0       3.27466      Pvt Ltd  \n",
       "13974             STEM         4.0       3.27466      Pvt Ltd  "
      ]
     },
     "execution_count": 18,
     "metadata": {},
     "output_type": "execute_result"
    }
   ],
   "source": [
    "X_train.info()\n",
    "X_train.head()"
   ]
  },
  {
   "cell_type": "code",
   "execution_count": 17,
   "id": "364ca48f",
   "metadata": {},
   "outputs": [
    {
     "data": {
      "text/plain": [
       "DecisionTreeClassifier()"
      ]
     },
     "execution_count": 17,
     "metadata": {},
     "output_type": "execute_result"
    }
   ],
   "source": [
    "dtree = tree.DecisionTreeClassifier() \n",
    "dtree.fit(X_train, Y_train)"
   ]
  },
  {
   "cell_type": "code",
   "execution_count": 31,
   "id": "0e79bc9d",
   "metadata": {},
   "outputs": [
    {
     "name": "stdout",
     "output_type": "stream",
     "text": [
      "Accuracy on training set: 0.923\n"
     ]
    }
   ],
   "source": [
    "print(\"Accuracy on training set: {:.3f}\".format(dtree.score(X_train, Y_train)))"
   ]
  },
  {
   "cell_type": "code",
   "execution_count": 30,
   "id": "270bef01",
   "metadata": {},
   "outputs": [
    {
     "data": {
      "image/png": "[encoded data removed]",
      "text/plain": [
       "<Figure size 1224x720 with 1 Axes>"
      ]
     },
     "metadata": {
      "needs_background": "light"
     },
     "output_type": "display_data"
    }
   ],
   "source": [
    "plt.figure(figsize=(17,10))  # set plot size (denoted in inches)\n",
    "tree.plot_tree(dtree,\n",
    "               class_names=True,\n",
    "               feature_names=list(X_train.columns), # label features with the column names from X\n",
    "               filled=True, # color nodes to indicate majority class\n",
    "               fontsize=10) \n",
    "plt.savefig('big_tree.png', bbox_inches='tight') # save plot as png file "
   ]
  },
  {
   "cell_type": "code",
   "execution_count": 34,
   "id": "20ba64dc",
   "metadata": {},
   "outputs": [
    {
     "name": "stdout",
     "output_type": "stream",
     "text": [
      "Fitting 5 folds for each of 54 candidates, totalling 270 fits\n",
      "[CV 1/5] END criterion=gini, max_depth=3, min_samples_leaf=5;, score=0.783 total time=   0.0s\n",
      "[CV 2/5] END criterion=gini, max_depth=3, min_samples_leaf=5;, score=0.778 total time=   0.0s\n",
      "[CV 3/5] END criterion=gini, max_depth=3, min_samples_leaf=5;, score=0.782 total time=   0.0s\n",
      "[CV 4/5] END criterion=gini, max_depth=3, min_samples_leaf=5;, score=0.779 total time=   0.0s\n",
      "[CV 5/5] END criterion=gini, max_depth=3, min_samples_leaf=5;, score=0.790 total time=   0.0s\n",
      "[CV 1/5] END criterion=gini, max_depth=3, min_samples_leaf=6;, score=0.783 total time=   0.0s\n",
      "[CV 2/5] END criterion=gini, max_depth=3, min_samples_leaf=6;, score=0.778 total time=   0.0s\n",
      "[CV 3/5] END criterion=gini, max_depth=3, min_samples_leaf=6;, score=0.782 total time=   0.0s\n",
      "[CV 4/5] END criterion=gini, max_depth=3, min_samples_leaf=6;, score=0.779 total time=   0.0s\n",
      "[CV 5/5] END criterion=gini, max_depth=3, min_samples_leaf=6;, score=0.790 total time=   0.0s\n",
      "[CV 1/5] END criterion=gini, max_depth=3, min_samples_leaf=7;, score=0.783 total time=   0.0s\n",
      "[CV 2/5] END criterion=gini, max_depth=3, min_samples_leaf=7;, score=0.778 total time=   0.0s\n",
      "[CV 3/5] END criterion=gini, max_depth=3, min_samples_leaf=7;, score=0.782 total time=   0.0s\n",
      "[CV 4/5] END criterion=gini, max_depth=3, min_samples_leaf=7;, score=0.779 total time=   0.0s\n",
      "[CV 5/5] END criterion=gini, max_depth=3, min_samples_leaf=7;, score=0.790 total time=   0.0s\n",
      "[CV 1/5] END criterion=gini, max_depth=3, min_samples_leaf=8;, score=0.783 total time=   0.0s\n",
      "[CV 2/5] END criterion=gini, max_depth=3, min_samples_leaf=8;, score=0.778 total time=   0.0s\n",
      "[CV 3/5] END criterion=gini, max_depth=3, min_samples_leaf=8;, score=0.782 total time=   0.0s\n",
      "[CV 4/5] END criterion=gini, max_depth=3, min_samples_leaf=8;, score=0.779 total time=   0.0s\n",
      "[CV 5/5] END criterion=gini, max_depth=3, min_samples_leaf=8;, score=0.790 total time=   0.0s\n",
      "[CV 1/5] END criterion=gini, max_depth=3, min_samples_leaf=9;, score=0.783 total time=   0.0s\n",
      "[CV 2/5] END criterion=gini, max_depth=3, min_samples_leaf=9;, score=0.778 total time=   0.0s\n",
      "[CV 3/5] END criterion=gini, max_depth=3, min_samples_leaf=9;, score=0.782 total time=   0.0s\n",
      "[CV 4/5] END criterion=gini, max_depth=3, min_samples_leaf=9;, score=0.779 total time=   0.0s\n",
      "[CV 5/5] END criterion=gini, max_depth=3, min_samples_leaf=9;, score=0.790 total time=   0.0s\n",
      "[CV 1/5] END criterion=gini, max_depth=3, min_samples_leaf=11;, score=0.783 total time=   0.0s\n",
      "[CV 2/5] END criterion=gini, max_depth=3, min_samples_leaf=11;, score=0.778 total time=   0.0s\n",
      "[CV 3/5] END criterion=gini, max_depth=3, min_samples_leaf=11;, score=0.782 total time=   0.0s\n",
      "[CV 4/5] END criterion=gini, max_depth=3, min_samples_leaf=11;, score=0.779 total time=   0.0s\n",
      "[CV 5/5] END criterion=gini, max_depth=3, min_samples_leaf=11;, score=0.790 total time=   0.0s\n",
      "[CV 1/5] END criterion=gini, max_depth=4, min_samples_leaf=5;, score=0.783 total time=   0.0s\n",
      "[CV 2/5] END criterion=gini, max_depth=4, min_samples_leaf=5;, score=0.783 total time=   0.0s\n",
      "[CV 3/5] END criterion=gini, max_depth=4, min_samples_leaf=5;, score=0.781 total time=   0.0s\n",
      "[CV 4/5] END criterion=gini, max_depth=4, min_samples_leaf=5;, score=0.777 total time=   0.0s\n",
      "[CV 5/5] END criterion=gini, max_depth=4, min_samples_leaf=5;, score=0.789 total time=   0.0s\n",
      "[CV 1/5] END criterion=gini, max_depth=4, min_samples_leaf=6;, score=0.783 total time=   0.0s\n",
      "[CV 2/5] END criterion=gini, max_depth=4, min_samples_leaf=6;, score=0.783 total time=   0.0s\n",
      "[CV 3/5] END criterion=gini, max_depth=4, min_samples_leaf=6;, score=0.781 total time=   0.0s\n",
      "[CV 4/5] END criterion=gini, max_depth=4, min_samples_leaf=6;, score=0.778 total time=   0.0s\n",
      "[CV 5/5] END criterion=gini, max_depth=4, min_samples_leaf=6;, score=0.789 total time=   0.0s\n",
      "[CV 1/5] END criterion=gini, max_depth=4, min_samples_leaf=7;, score=0.783 total time=   0.0s\n",
      "[CV 2/5] END criterion=gini, max_depth=4, min_samples_leaf=7;, score=0.783 total time=   0.0s\n",
      "[CV 3/5] END criterion=gini, max_depth=4, min_samples_leaf=7;, score=0.781 total time=   0.0s\n",
      "[CV 4/5] END criterion=gini, max_depth=4, min_samples_leaf=7;, score=0.778 total time=   0.0s\n",
      "[CV 5/5] END criterion=gini, max_depth=4, min_samples_leaf=7;, score=0.789 total time=   0.0s\n",
      "[CV 1/5] END criterion=gini, max_depth=4, min_samples_leaf=8;, score=0.783 total time=   0.0s\n",
      "[CV 2/5] END criterion=gini, max_depth=4, min_samples_leaf=8;, score=0.783 total time=   0.0s\n",
      "[CV 3/5] END criterion=gini, max_depth=4, min_samples_leaf=8;, score=0.781 total time=   0.0s\n",
      "[CV 4/5] END criterion=gini, max_depth=4, min_samples_leaf=8;, score=0.778 total time=   0.0s\n",
      "[CV 5/5] END criterion=gini, max_depth=4, min_samples_leaf=8;, score=0.789 total time=   0.0s\n",
      "[CV 1/5] END criterion=gini, max_depth=4, min_samples_leaf=9;, score=0.783 total time=   0.0s\n",
      "[CV 2/5] END criterion=gini, max_depth=4, min_samples_leaf=9;, score=0.783 total time=   0.0s\n",
      "[CV 3/5] END criterion=gini, max_depth=4, min_samples_leaf=9;, score=0.781 total time=   0.0s\n",
      "[CV 4/5] END criterion=gini, max_depth=4, min_samples_leaf=9;, score=0.778 total time=   0.0s\n",
      "[CV 5/5] END criterion=gini, max_depth=4, min_samples_leaf=9;, score=0.789 total time=   0.0s\n",
      "[CV 1/5] END criterion=gini, max_depth=4, min_samples_leaf=11;, score=0.783 total time=   0.0s\n",
      "[CV 2/5] END criterion=gini, max_depth=4, min_samples_leaf=11;, score=0.783 total time=   0.0s\n",
      "[CV 3/5] END criterion=gini, max_depth=4, min_samples_leaf=11;, score=0.781 total time=   0.0s\n",
      "[CV 4/5] END criterion=gini, max_depth=4, min_samples_leaf=11;, score=0.781 total time=   0.0s\n",
      "[CV 5/5] END criterion=gini, max_depth=4, min_samples_leaf=11;, score=0.789 total time=   0.0s\n",
      "[CV 1/5] END criterion=gini, max_depth=5, min_samples_leaf=5;, score=0.783 total time=   0.0s\n",
      "[CV 2/5] END criterion=gini, max_depth=5, min_samples_leaf=5;, score=0.783 total time=   0.0s\n",
      "[CV 3/5] END criterion=gini, max_depth=5, min_samples_leaf=5;, score=0.785 total time=   0.0s\n",
      "[CV 4/5] END criterion=gini, max_depth=5, min_samples_leaf=5;, score=0.779 total time=   0.0s\n",
      "[CV 5/5] END criterion=gini, max_depth=5, min_samples_leaf=5;, score=0.789 total time=   0.0s\n",
      "[CV 1/5] END criterion=gini, max_depth=5, min_samples_leaf=6;, score=0.783 total time=   0.0s\n",
      "[CV 2/5] END criterion=gini, max_depth=5, min_samples_leaf=6;, score=0.783 total time=   0.0s\n",
      "[CV 3/5] END criterion=gini, max_depth=5, min_samples_leaf=6;, score=0.785 total time=   0.0s\n",
      "[CV 4/5] END criterion=gini, max_depth=5, min_samples_leaf=6;, score=0.779 total time=   0.0s\n",
      "[CV 5/5] END criterion=gini, max_depth=5, min_samples_leaf=6;, score=0.789 total time=   0.0s\n",
      "[CV 1/5] END criterion=gini, max_depth=5, min_samples_leaf=7;, score=0.783 total time=   0.0s\n",
      "[CV 2/5] END criterion=gini, max_depth=5, min_samples_leaf=7;, score=0.783 total time=   0.0s\n",
      "[CV 3/5] END criterion=gini, max_depth=5, min_samples_leaf=7;, score=0.785 total time=   0.0s\n",
      "[CV 4/5] END criterion=gini, max_depth=5, min_samples_leaf=7;, score=0.779 total time=   0.0s\n",
      "[CV 5/5] END criterion=gini, max_depth=5, min_samples_leaf=7;, score=0.789 total time=   0.0s\n",
      "[CV 1/5] END criterion=gini, max_depth=5, min_samples_leaf=8;, score=0.783 total time=   0.0s\n",
      "[CV 2/5] END criterion=gini, max_depth=5, min_samples_leaf=8;, score=0.783 total time=   0.0s\n",
      "[CV 3/5] END criterion=gini, max_depth=5, min_samples_leaf=8;, score=0.785 total time=   0.0s\n",
      "[CV 4/5] END criterion=gini, max_depth=5, min_samples_leaf=8;, score=0.780 total time=   0.0s\n",
      "[CV 5/5] END criterion=gini, max_depth=5, min_samples_leaf=8;, score=0.789 total time=   0.0s\n",
      "[CV 1/5] END criterion=gini, max_depth=5, min_samples_leaf=9;, score=0.783 total time=   0.0s\n",
      "[CV 2/5] END criterion=gini, max_depth=5, min_samples_leaf=9;, score=0.783 total time=   0.0s\n",
      "[CV 3/5] END criterion=gini, max_depth=5, min_samples_leaf=9;, score=0.785 total time=   0.0s\n",
      "[CV 4/5] END criterion=gini, max_depth=5, min_samples_leaf=9;, score=0.780 total time=   0.0s\n",
      "[CV 5/5] END criterion=gini, max_depth=5, min_samples_leaf=9;, score=0.789 total time=   0.0s\n",
      "[CV 1/5] END criterion=gini, max_depth=5, min_samples_leaf=11;, score=0.783 total time=   0.0s\n",
      "[CV 2/5] END criterion=gini, max_depth=5, min_samples_leaf=11;, score=0.783 total time=   0.0s\n",
      "[CV 3/5] END criterion=gini, max_depth=5, min_samples_leaf=11;, score=0.785 total time=   0.0s\n",
      "[CV 4/5] END criterion=gini, max_depth=5, min_samples_leaf=11;, score=0.783 total time=   0.0s\n",
      "[CV 5/5] END criterion=gini, max_depth=5, min_samples_leaf=11;, score=0.789 total time=   0.0s\n",
      "[CV 1/5] END criterion=gini, max_depth=6, min_samples_leaf=5;, score=0.787 total time=   0.0s\n",
      "[CV 2/5] END criterion=gini, max_depth=6, min_samples_leaf=5;, score=0.783 total time=   0.0s\n"
     ]
    },
    {
     "name": "stdout",
     "output_type": "stream",
     "text": [
      "[CV 3/5] END criterion=gini, max_depth=6, min_samples_leaf=5;, score=0.784 total time=   0.0s\n",
      "[CV 4/5] END criterion=gini, max_depth=6, min_samples_leaf=5;, score=0.781 total time=   0.0s\n",
      "[CV 5/5] END criterion=gini, max_depth=6, min_samples_leaf=5;, score=0.789 total time=   0.0s\n",
      "[CV 1/5] END criterion=gini, max_depth=6, min_samples_leaf=6;, score=0.787 total time=   0.0s\n",
      "[CV 2/5] END criterion=gini, max_depth=6, min_samples_leaf=6;, score=0.783 total time=   0.0s\n",
      "[CV 3/5] END criterion=gini, max_depth=6, min_samples_leaf=6;, score=0.784 total time=   0.0s\n",
      "[CV 4/5] END criterion=gini, max_depth=6, min_samples_leaf=6;, score=0.781 total time=   0.0s\n",
      "[CV 5/5] END criterion=gini, max_depth=6, min_samples_leaf=6;, score=0.790 total time=   0.0s\n",
      "[CV 1/5] END criterion=gini, max_depth=6, min_samples_leaf=7;, score=0.787 total time=   0.0s\n",
      "[CV 2/5] END criterion=gini, max_depth=6, min_samples_leaf=7;, score=0.783 total time=   0.0s\n",
      "[CV 3/5] END criterion=gini, max_depth=6, min_samples_leaf=7;, score=0.784 total time=   0.0s\n",
      "[CV 4/5] END criterion=gini, max_depth=6, min_samples_leaf=7;, score=0.781 total time=   0.0s\n",
      "[CV 5/5] END criterion=gini, max_depth=6, min_samples_leaf=7;, score=0.791 total time=   0.0s\n",
      "[CV 1/5] END criterion=gini, max_depth=6, min_samples_leaf=8;, score=0.787 total time=   0.0s\n",
      "[CV 2/5] END criterion=gini, max_depth=6, min_samples_leaf=8;, score=0.783 total time=   0.0s\n",
      "[CV 3/5] END criterion=gini, max_depth=6, min_samples_leaf=8;, score=0.784 total time=   0.0s\n",
      "[CV 4/5] END criterion=gini, max_depth=6, min_samples_leaf=8;, score=0.781 total time=   0.0s\n",
      "[CV 5/5] END criterion=gini, max_depth=6, min_samples_leaf=8;, score=0.791 total time=   0.0s\n",
      "[CV 1/5] END criterion=gini, max_depth=6, min_samples_leaf=9;, score=0.787 total time=   0.0s\n",
      "[CV 2/5] END criterion=gini, max_depth=6, min_samples_leaf=9;, score=0.783 total time=   0.0s\n",
      "[CV 3/5] END criterion=gini, max_depth=6, min_samples_leaf=9;, score=0.784 total time=   0.0s\n",
      "[CV 4/5] END criterion=gini, max_depth=6, min_samples_leaf=9;, score=0.781 total time=   0.0s\n",
      "[CV 5/5] END criterion=gini, max_depth=6, min_samples_leaf=9;, score=0.791 total time=   0.0s\n",
      "[CV 1/5] END criterion=gini, max_depth=6, min_samples_leaf=11;, score=0.787 total time=   0.0s\n",
      "[CV 2/5] END criterion=gini, max_depth=6, min_samples_leaf=11;, score=0.785 total time=   0.0s\n",
      "[CV 3/5] END criterion=gini, max_depth=6, min_samples_leaf=11;, score=0.784 total time=   0.0s\n",
      "[CV 4/5] END criterion=gini, max_depth=6, min_samples_leaf=11;, score=0.781 total time=   0.0s\n",
      "[CV 5/5] END criterion=gini, max_depth=6, min_samples_leaf=11;, score=0.791 total time=   0.0s\n",
      "[CV 1/5] END criterion=gini, max_depth=7, min_samples_leaf=5;, score=0.787 total time=   0.0s\n",
      "[CV 2/5] END criterion=gini, max_depth=7, min_samples_leaf=5;, score=0.786 total time=   0.0s\n",
      "[CV 3/5] END criterion=gini, max_depth=7, min_samples_leaf=5;, score=0.784 total time=   0.0s\n",
      "[CV 4/5] END criterion=gini, max_depth=7, min_samples_leaf=5;, score=0.777 total time=   0.0s\n",
      "[CV 5/5] END criterion=gini, max_depth=7, min_samples_leaf=5;, score=0.790 total time=   0.0s\n",
      "[CV 1/5] END criterion=gini, max_depth=7, min_samples_leaf=6;, score=0.787 total time=   0.0s\n",
      "[CV 2/5] END criterion=gini, max_depth=7, min_samples_leaf=6;, score=0.786 total time=   0.0s\n",
      "[CV 3/5] END criterion=gini, max_depth=7, min_samples_leaf=6;, score=0.785 total time=   0.0s\n",
      "[CV 4/5] END criterion=gini, max_depth=7, min_samples_leaf=6;, score=0.778 total time=   0.0s\n",
      "[CV 5/5] END criterion=gini, max_depth=7, min_samples_leaf=6;, score=0.790 total time=   0.0s\n",
      "[CV 1/5] END criterion=gini, max_depth=7, min_samples_leaf=7;, score=0.786 total time=   0.0s\n",
      "[CV 2/5] END criterion=gini, max_depth=7, min_samples_leaf=7;, score=0.786 total time=   0.0s\n",
      "[CV 3/5] END criterion=gini, max_depth=7, min_samples_leaf=7;, score=0.786 total time=   0.0s\n",
      "[CV 4/5] END criterion=gini, max_depth=7, min_samples_leaf=7;, score=0.778 total time=   0.0s\n",
      "[CV 5/5] END criterion=gini, max_depth=7, min_samples_leaf=7;, score=0.787 total time=   0.0s\n",
      "[CV 1/5] END criterion=gini, max_depth=7, min_samples_leaf=8;, score=0.786 total time=   0.0s\n",
      "[CV 2/5] END criterion=gini, max_depth=7, min_samples_leaf=8;, score=0.786 total time=   0.0s\n",
      "[CV 3/5] END criterion=gini, max_depth=7, min_samples_leaf=8;, score=0.780 total time=   0.0s\n",
      "[CV 4/5] END criterion=gini, max_depth=7, min_samples_leaf=8;, score=0.778 total time=   0.0s\n",
      "[CV 5/5] END criterion=gini, max_depth=7, min_samples_leaf=8;, score=0.786 total time=   0.0s\n",
      "[CV 1/5] END criterion=gini, max_depth=7, min_samples_leaf=9;, score=0.786 total time=   0.0s\n",
      "[CV 2/5] END criterion=gini, max_depth=7, min_samples_leaf=9;, score=0.785 total time=   0.0s\n",
      "[CV 3/5] END criterion=gini, max_depth=7, min_samples_leaf=9;, score=0.780 total time=   0.0s\n",
      "[CV 4/5] END criterion=gini, max_depth=7, min_samples_leaf=9;, score=0.778 total time=   0.0s\n",
      "[CV 5/5] END criterion=gini, max_depth=7, min_samples_leaf=9;, score=0.786 total time=   0.0s\n",
      "[CV 1/5] END criterion=gini, max_depth=7, min_samples_leaf=11;, score=0.786 total time=   0.0s\n",
      "[CV 2/5] END criterion=gini, max_depth=7, min_samples_leaf=11;, score=0.785 total time=   0.0s\n",
      "[CV 3/5] END criterion=gini, max_depth=7, min_samples_leaf=11;, score=0.780 total time=   0.0s\n",
      "[CV 4/5] END criterion=gini, max_depth=7, min_samples_leaf=11;, score=0.778 total time=   0.0s\n",
      "[CV 5/5] END criterion=gini, max_depth=7, min_samples_leaf=11;, score=0.785 total time=   0.0s\n",
      "[CV 1/5] END criterion=gini, max_depth=8, min_samples_leaf=5;, score=0.783 total time=   0.0s\n",
      "[CV 2/5] END criterion=gini, max_depth=8, min_samples_leaf=5;, score=0.785 total time=   0.0s\n",
      "[CV 3/5] END criterion=gini, max_depth=8, min_samples_leaf=5;, score=0.778 total time=   0.0s\n",
      "[CV 4/5] END criterion=gini, max_depth=8, min_samples_leaf=5;, score=0.778 total time=   0.0s\n",
      "[CV 5/5] END criterion=gini, max_depth=8, min_samples_leaf=5;, score=0.785 total time=   0.0s\n",
      "[CV 1/5] END criterion=gini, max_depth=8, min_samples_leaf=6;, score=0.782 total time=   0.0s\n",
      "[CV 2/5] END criterion=gini, max_depth=8, min_samples_leaf=6;, score=0.785 total time=   0.0s\n",
      "[CV 3/5] END criterion=gini, max_depth=8, min_samples_leaf=6;, score=0.779 total time=   0.0s\n",
      "[CV 4/5] END criterion=gini, max_depth=8, min_samples_leaf=6;, score=0.778 total time=   0.0s\n",
      "[CV 5/5] END criterion=gini, max_depth=8, min_samples_leaf=6;, score=0.786 total time=   0.0s\n",
      "[CV 1/5] END criterion=gini, max_depth=8, min_samples_leaf=7;, score=0.782 total time=   0.0s\n",
      "[CV 2/5] END criterion=gini, max_depth=8, min_samples_leaf=7;, score=0.785 total time=   0.0s\n",
      "[CV 3/5] END criterion=gini, max_depth=8, min_samples_leaf=7;, score=0.780 total time=   0.0s\n",
      "[CV 4/5] END criterion=gini, max_depth=8, min_samples_leaf=7;, score=0.779 total time=   0.0s\n",
      "[CV 5/5] END criterion=gini, max_depth=8, min_samples_leaf=7;, score=0.789 total time=   0.0s\n",
      "[CV 1/5] END criterion=gini, max_depth=8, min_samples_leaf=8;, score=0.782 total time=   0.0s\n",
      "[CV 2/5] END criterion=gini, max_depth=8, min_samples_leaf=8;, score=0.783 total time=   0.0s\n",
      "[CV 3/5] END criterion=gini, max_depth=8, min_samples_leaf=8;, score=0.780 total time=   0.0s\n",
      "[CV 4/5] END criterion=gini, max_depth=8, min_samples_leaf=8;, score=0.779 total time=   0.0s\n",
      "[CV 5/5] END criterion=gini, max_depth=8, min_samples_leaf=8;, score=0.786 total time=   0.0s\n",
      "[CV 1/5] END criterion=gini, max_depth=8, min_samples_leaf=9;, score=0.782 total time=   0.0s\n",
      "[CV 2/5] END criterion=gini, max_depth=8, min_samples_leaf=9;, score=0.783 total time=   0.0s\n",
      "[CV 3/5] END criterion=gini, max_depth=8, min_samples_leaf=9;, score=0.780 total time=   0.0s\n",
      "[CV 4/5] END criterion=gini, max_depth=8, min_samples_leaf=9;, score=0.778 total time=   0.0s\n",
      "[CV 5/5] END criterion=gini, max_depth=8, min_samples_leaf=9;, score=0.785 total time=   0.0s\n",
      "[CV 1/5] END criterion=gini, max_depth=8, min_samples_leaf=11;, score=0.781 total time=   0.0s\n",
      "[CV 2/5] END criterion=gini, max_depth=8, min_samples_leaf=11;, score=0.783 total time=   0.0s\n",
      "[CV 3/5] END criterion=gini, max_depth=8, min_samples_leaf=11;, score=0.782 total time=   0.0s\n",
      "[CV 4/5] END criterion=gini, max_depth=8, min_samples_leaf=11;, score=0.776 total time=   0.0s\n",
      "[CV 5/5] END criterion=gini, max_depth=8, min_samples_leaf=11;, score=0.785 total time=   0.0s\n",
      "[CV 1/5] END criterion=gini, max_depth=9, min_samples_leaf=5;, score=0.771 total time=   0.0s\n",
      "[CV 2/5] END criterion=gini, max_depth=9, min_samples_leaf=5;, score=0.786 total time=   0.0s\n",
      "[CV 3/5] END criterion=gini, max_depth=9, min_samples_leaf=5;, score=0.778 total time=   0.0s\n",
      "[CV 4/5] END criterion=gini, max_depth=9, min_samples_leaf=5;, score=0.774 total time=   0.0s\n",
      "[CV 5/5] END criterion=gini, max_depth=9, min_samples_leaf=5;, score=0.782 total time=   0.0s\n",
      "[CV 1/5] END criterion=gini, max_depth=9, min_samples_leaf=6;, score=0.772 total time=   0.0s\n",
      "[CV 2/5] END criterion=gini, max_depth=9, min_samples_leaf=6;, score=0.785 total time=   0.0s\n"
     ]
    },
    {
     "name": "stdout",
     "output_type": "stream",
     "text": [
      "[CV 3/5] END criterion=gini, max_depth=9, min_samples_leaf=6;, score=0.779 total time=   0.0s\n",
      "[CV 4/5] END criterion=gini, max_depth=9, min_samples_leaf=6;, score=0.774 total time=   0.0s\n",
      "[CV 5/5] END criterion=gini, max_depth=9, min_samples_leaf=6;, score=0.784 total time=   0.0s\n",
      "[CV 1/5] END criterion=gini, max_depth=9, min_samples_leaf=7;, score=0.772 total time=   0.0s\n",
      "[CV 2/5] END criterion=gini, max_depth=9, min_samples_leaf=7;, score=0.782 total time=   0.0s\n",
      "[CV 3/5] END criterion=gini, max_depth=9, min_samples_leaf=7;, score=0.779 total time=   0.0s\n",
      "[CV 4/5] END criterion=gini, max_depth=9, min_samples_leaf=7;, score=0.775 total time=   0.0s\n",
      "[CV 5/5] END criterion=gini, max_depth=9, min_samples_leaf=7;, score=0.784 total time=   0.0s\n",
      "[CV 1/5] END criterion=gini, max_depth=9, min_samples_leaf=8;, score=0.772 total time=   0.0s\n",
      "[CV 2/5] END criterion=gini, max_depth=9, min_samples_leaf=8;, score=0.784 total time=   0.0s\n",
      "[CV 3/5] END criterion=gini, max_depth=9, min_samples_leaf=8;, score=0.779 total time=   0.0s\n",
      "[CV 4/5] END criterion=gini, max_depth=9, min_samples_leaf=8;, score=0.774 total time=   0.0s\n",
      "[CV 5/5] END criterion=gini, max_depth=9, min_samples_leaf=8;, score=0.782 total time=   0.0s\n",
      "[CV 1/5] END criterion=gini, max_depth=9, min_samples_leaf=9;, score=0.780 total time=   0.0s\n",
      "[CV 2/5] END criterion=gini, max_depth=9, min_samples_leaf=9;, score=0.783 total time=   0.0s\n",
      "[CV 3/5] END criterion=gini, max_depth=9, min_samples_leaf=9;, score=0.778 total time=   0.0s\n",
      "[CV 4/5] END criterion=gini, max_depth=9, min_samples_leaf=9;, score=0.772 total time=   0.0s\n",
      "[CV 5/5] END criterion=gini, max_depth=9, min_samples_leaf=9;, score=0.783 total time=   0.0s\n",
      "[CV 1/5] END criterion=gini, max_depth=9, min_samples_leaf=11;, score=0.780 total time=   0.0s\n",
      "[CV 2/5] END criterion=gini, max_depth=9, min_samples_leaf=11;, score=0.782 total time=   0.0s\n",
      "[CV 3/5] END criterion=gini, max_depth=9, min_samples_leaf=11;, score=0.779 total time=   0.0s\n",
      "[CV 4/5] END criterion=gini, max_depth=9, min_samples_leaf=11;, score=0.775 total time=   0.0s\n",
      "[CV 5/5] END criterion=gini, max_depth=9, min_samples_leaf=11;, score=0.782 total time=   0.0s\n",
      "[CV 1/5] END criterion=gini, max_depth=10, min_samples_leaf=5;, score=0.773 total time=   0.0s\n",
      "[CV 2/5] END criterion=gini, max_depth=10, min_samples_leaf=5;, score=0.786 total time=   0.0s\n",
      "[CV 3/5] END criterion=gini, max_depth=10, min_samples_leaf=5;, score=0.778 total time=   0.0s\n",
      "[CV 4/5] END criterion=gini, max_depth=10, min_samples_leaf=5;, score=0.774 total time=   0.0s\n",
      "[CV 5/5] END criterion=gini, max_depth=10, min_samples_leaf=5;, score=0.780 total time=   0.0s\n",
      "[CV 1/5] END criterion=gini, max_depth=10, min_samples_leaf=6;, score=0.771 total time=   0.0s\n",
      "[CV 2/5] END criterion=gini, max_depth=10, min_samples_leaf=6;, score=0.785 total time=   0.0s\n",
      "[CV 3/5] END criterion=gini, max_depth=10, min_samples_leaf=6;, score=0.777 total time=   0.0s\n",
      "[CV 4/5] END criterion=gini, max_depth=10, min_samples_leaf=6;, score=0.774 total time=   0.0s\n",
      "[CV 5/5] END criterion=gini, max_depth=10, min_samples_leaf=6;, score=0.783 total time=   0.0s\n",
      "[CV 1/5] END criterion=gini, max_depth=10, min_samples_leaf=7;, score=0.772 total time=   0.0s\n",
      "[CV 2/5] END criterion=gini, max_depth=10, min_samples_leaf=7;, score=0.784 total time=   0.0s\n",
      "[CV 3/5] END criterion=gini, max_depth=10, min_samples_leaf=7;, score=0.779 total time=   0.0s\n",
      "[CV 4/5] END criterion=gini, max_depth=10, min_samples_leaf=7;, score=0.775 total time=   0.0s\n",
      "[CV 5/5] END criterion=gini, max_depth=10, min_samples_leaf=7;, score=0.782 total time=   0.0s\n",
      "[CV 1/5] END criterion=gini, max_depth=10, min_samples_leaf=8;, score=0.772 total time=   0.0s\n",
      "[CV 2/5] END criterion=gini, max_depth=10, min_samples_leaf=8;, score=0.786 total time=   0.0s\n",
      "[CV 3/5] END criterion=gini, max_depth=10, min_samples_leaf=8;, score=0.785 total time=   0.0s\n",
      "[CV 4/5] END criterion=gini, max_depth=10, min_samples_leaf=8;, score=0.774 total time=   0.0s\n",
      "[CV 5/5] END criterion=gini, max_depth=10, min_samples_leaf=8;, score=0.779 total time=   0.0s\n",
      "[CV 1/5] END criterion=gini, max_depth=10, min_samples_leaf=9;, score=0.772 total time=   0.0s\n",
      "[CV 2/5] END criterion=gini, max_depth=10, min_samples_leaf=9;, score=0.785 total time=   0.0s\n",
      "[CV 3/5] END criterion=gini, max_depth=10, min_samples_leaf=9;, score=0.783 total time=   0.0s\n",
      "[CV 4/5] END criterion=gini, max_depth=10, min_samples_leaf=9;, score=0.773 total time=   0.0s\n",
      "[CV 5/5] END criterion=gini, max_depth=10, min_samples_leaf=9;, score=0.780 total time=   0.0s\n",
      "[CV 1/5] END criterion=gini, max_depth=10, min_samples_leaf=11;, score=0.771 total time=   0.0s\n",
      "[CV 2/5] END criterion=gini, max_depth=10, min_samples_leaf=11;, score=0.785 total time=   0.0s\n",
      "[CV 3/5] END criterion=gini, max_depth=10, min_samples_leaf=11;, score=0.782 total time=   0.0s\n",
      "[CV 4/5] END criterion=gini, max_depth=10, min_samples_leaf=11;, score=0.774 total time=   0.0s\n",
      "[CV 5/5] END criterion=gini, max_depth=10, min_samples_leaf=11;, score=0.782 total time=   0.0s\n",
      "[CV 1/5] END criterion=gini, max_depth=17, min_samples_leaf=5;, score=0.774 total time=   0.0s\n",
      "[CV 2/5] END criterion=gini, max_depth=17, min_samples_leaf=5;, score=0.777 total time=   0.0s\n",
      "[CV 3/5] END criterion=gini, max_depth=17, min_samples_leaf=5;, score=0.780 total time=   0.0s\n",
      "[CV 4/5] END criterion=gini, max_depth=17, min_samples_leaf=5;, score=0.766 total time=   0.0s\n",
      "[CV 5/5] END criterion=gini, max_depth=17, min_samples_leaf=5;, score=0.783 total time=   0.0s\n",
      "[CV 1/5] END criterion=gini, max_depth=17, min_samples_leaf=6;, score=0.773 total time=   0.0s\n",
      "[CV 2/5] END criterion=gini, max_depth=17, min_samples_leaf=6;, score=0.777 total time=   0.0s\n",
      "[CV 3/5] END criterion=gini, max_depth=17, min_samples_leaf=6;, score=0.782 total time=   0.0s\n",
      "[CV 4/5] END criterion=gini, max_depth=17, min_samples_leaf=6;, score=0.767 total time=   0.0s\n",
      "[CV 5/5] END criterion=gini, max_depth=17, min_samples_leaf=6;, score=0.784 total time=   0.0s\n",
      "[CV 1/5] END criterion=gini, max_depth=17, min_samples_leaf=7;, score=0.773 total time=   0.0s\n",
      "[CV 2/5] END criterion=gini, max_depth=17, min_samples_leaf=7;, score=0.780 total time=   0.0s\n",
      "[CV 3/5] END criterion=gini, max_depth=17, min_samples_leaf=7;, score=0.783 total time=   0.0s\n",
      "[CV 4/5] END criterion=gini, max_depth=17, min_samples_leaf=7;, score=0.764 total time=   0.0s\n",
      "[CV 5/5] END criterion=gini, max_depth=17, min_samples_leaf=7;, score=0.784 total time=   0.0s\n",
      "[CV 1/5] END criterion=gini, max_depth=17, min_samples_leaf=8;, score=0.773 total time=   0.0s\n",
      "[CV 2/5] END criterion=gini, max_depth=17, min_samples_leaf=8;, score=0.781 total time=   0.0s\n",
      "[CV 3/5] END criterion=gini, max_depth=17, min_samples_leaf=8;, score=0.782 total time=   0.0s\n",
      "[CV 4/5] END criterion=gini, max_depth=17, min_samples_leaf=8;, score=0.772 total time=   0.0s\n",
      "[CV 5/5] END criterion=gini, max_depth=17, min_samples_leaf=8;, score=0.780 total time=   0.0s\n",
      "[CV 1/5] END criterion=gini, max_depth=17, min_samples_leaf=9;, score=0.772 total time=   0.0s\n",
      "[CV 2/5] END criterion=gini, max_depth=17, min_samples_leaf=9;, score=0.781 total time=   0.0s\n",
      "[CV 3/5] END criterion=gini, max_depth=17, min_samples_leaf=9;, score=0.777 total time=   0.0s\n",
      "[CV 4/5] END criterion=gini, max_depth=17, min_samples_leaf=9;, score=0.772 total time=   0.0s\n",
      "[CV 5/5] END criterion=gini, max_depth=17, min_samples_leaf=9;, score=0.780 total time=   0.0s\n",
      "[CV 1/5] END criterion=gini, max_depth=17, min_samples_leaf=11;, score=0.773 total time=   0.0s\n",
      "[CV 2/5] END criterion=gini, max_depth=17, min_samples_leaf=11;, score=0.786 total time=   0.0s\n",
      "[CV 3/5] END criterion=gini, max_depth=17, min_samples_leaf=11;, score=0.781 total time=   0.0s\n",
      "[CV 4/5] END criterion=gini, max_depth=17, min_samples_leaf=11;, score=0.772 total time=   0.0s\n",
      "[CV 5/5] END criterion=gini, max_depth=17, min_samples_leaf=11;, score=0.782 total time=   0.0s\n",
      "Best cross-validation score: 0.79\n",
      "Best parameters:  {'criterion': 'gini', 'max_depth': 6, 'min_samples_leaf': 11}\n"
     ]
    }
   ],
   "source": [
    "param_grid={'criterion': ['gini'],\n",
    "                         'max_depth': [3, 4, 5, 6, 7, 8, 9, 10, 17],\n",
    "                         'min_samples_leaf': [5, 6, 7, 8, 9, 11]},\n",
    "\n",
    "grid = GridSearchCV(DecisionTreeClassifier(random_state=42), param_grid, scoring = 'accuracy', cv=5, verbose = 5)\n",
    "grid.fit(X_train, Y_train)\n",
    "\n",
    "# print the best score obtained\n",
    "print(\"Best cross-validation score: {:.2f}\".format(grid.best_score_))\n",
    "\n",
    "#print the parameters that acheived the best score\n",
    "print(\"Best parameters: \", grid.best_params_)\n",
    "        "
   ]
  },
  {
   "cell_type": "markdown",
   "id": "b4100acb",
   "metadata": {},
   "source": [
    "Random forrest"
   ]
  },
  {
   "cell_type": "code",
   "execution_count": 33,
   "id": "f3db8a02",
   "metadata": {},
   "outputs": [
    {
     "data": {
      "text/plain": [
       "RandomForestClassifier()"
      ]
     },
     "execution_count": 33,
     "metadata": {},
     "output_type": "execute_result"
    }
   ],
   "source": [
    "rtree = RandomForestClassifier() \n",
    "rtree.fit(X_train, Y_train)"
   ]
  },
  {
   "cell_type": "code",
   "execution_count": 34,
   "id": "e1c1a7c5",
   "metadata": {},
   "outputs": [
    {
     "name": "stdout",
     "output_type": "stream",
     "text": [
      "Accuracy on training set: 0.923\n"
     ]
    }
   ],
   "source": [
    "print(\"Accuracy on training set: {:.3f}\".format(rtree.score(X_train, Y_train)))"
   ]
  },
  {
   "cell_type": "code",
   "execution_count": 22,
   "id": "7368b5e3",
   "metadata": {},
   "outputs": [
    {
     "name": "stdout",
     "output_type": "stream",
     "text": [
      "Fitting 5 folds for each of 48 candidates, totalling 240 fits\n",
      "[CV 1/5] END criterion=gini, max_depth=3, min_samples_leaf=5;, score=0.776 total time=   0.3s\n",
      "[CV 2/5] END criterion=gini, max_depth=3, min_samples_leaf=5;, score=0.776 total time=   0.3s\n",
      "[CV 3/5] END criterion=gini, max_depth=3, min_samples_leaf=5;, score=0.776 total time=   0.3s\n",
      "[CV 4/5] END criterion=gini, max_depth=3, min_samples_leaf=5;, score=0.776 total time=   0.3s\n",
      "[CV 5/5] END criterion=gini, max_depth=3, min_samples_leaf=5;, score=0.776 total time=   0.3s\n",
      "[CV 1/5] END criterion=gini, max_depth=3, min_samples_leaf=7;, score=0.776 total time=   0.3s\n",
      "[CV 2/5] END criterion=gini, max_depth=3, min_samples_leaf=7;, score=0.776 total time=   0.3s\n",
      "[CV 3/5] END criterion=gini, max_depth=3, min_samples_leaf=7;, score=0.776 total time=   0.3s\n",
      "[CV 4/5] END criterion=gini, max_depth=3, min_samples_leaf=7;, score=0.776 total time=   0.3s\n",
      "[CV 5/5] END criterion=gini, max_depth=3, min_samples_leaf=7;, score=0.776 total time=   0.3s\n",
      "[CV 1/5] END criterion=gini, max_depth=3, min_samples_leaf=9;, score=0.776 total time=   0.3s\n",
      "[CV 2/5] END criterion=gini, max_depth=3, min_samples_leaf=9;, score=0.776 total time=   0.3s\n",
      "[CV 3/5] END criterion=gini, max_depth=3, min_samples_leaf=9;, score=0.776 total time=   0.3s\n",
      "[CV 4/5] END criterion=gini, max_depth=3, min_samples_leaf=9;, score=0.776 total time=   0.3s\n",
      "[CV 5/5] END criterion=gini, max_depth=3, min_samples_leaf=9;, score=0.776 total time=   0.3s\n",
      "[CV 1/5] END criterion=gini, max_depth=3, min_samples_leaf=11;, score=0.776 total time=   0.3s\n",
      "[CV 2/5] END criterion=gini, max_depth=3, min_samples_leaf=11;, score=0.776 total time=   0.3s\n",
      "[CV 3/5] END criterion=gini, max_depth=3, min_samples_leaf=11;, score=0.776 total time=   0.3s\n",
      "[CV 4/5] END criterion=gini, max_depth=3, min_samples_leaf=11;, score=0.776 total time=   0.3s\n",
      "[CV 5/5] END criterion=gini, max_depth=3, min_samples_leaf=11;, score=0.776 total time=   0.3s\n",
      "[CV 1/5] END criterion=gini, max_depth=4, min_samples_leaf=5;, score=0.776 total time=   0.4s\n",
      "[CV 2/5] END criterion=gini, max_depth=4, min_samples_leaf=5;, score=0.776 total time=   0.4s\n",
      "[CV 3/5] END criterion=gini, max_depth=4, min_samples_leaf=5;, score=0.776 total time=   0.4s\n",
      "[CV 4/5] END criterion=gini, max_depth=4, min_samples_leaf=5;, score=0.776 total time=   0.4s\n",
      "[CV 5/5] END criterion=gini, max_depth=4, min_samples_leaf=5;, score=0.776 total time=   0.4s\n",
      "[CV 1/5] END criterion=gini, max_depth=4, min_samples_leaf=7;, score=0.776 total time=   0.4s\n",
      "[CV 2/5] END criterion=gini, max_depth=4, min_samples_leaf=7;, score=0.776 total time=   0.4s\n",
      "[CV 3/5] END criterion=gini, max_depth=4, min_samples_leaf=7;, score=0.776 total time=   0.4s\n",
      "[CV 4/5] END criterion=gini, max_depth=4, min_samples_leaf=7;, score=0.776 total time=   0.4s\n",
      "[CV 5/5] END criterion=gini, max_depth=4, min_samples_leaf=7;, score=0.776 total time=   0.4s\n",
      "[CV 1/5] END criterion=gini, max_depth=4, min_samples_leaf=9;, score=0.776 total time=   0.3s\n",
      "[CV 2/5] END criterion=gini, max_depth=4, min_samples_leaf=9;, score=0.776 total time=   0.4s\n",
      "[CV 3/5] END criterion=gini, max_depth=4, min_samples_leaf=9;, score=0.776 total time=   0.4s\n",
      "[CV 4/5] END criterion=gini, max_depth=4, min_samples_leaf=9;, score=0.776 total time=   0.4s\n",
      "[CV 5/5] END criterion=gini, max_depth=4, min_samples_leaf=9;, score=0.776 total time=   0.4s\n",
      "[CV 1/5] END criterion=gini, max_depth=4, min_samples_leaf=11;, score=0.776 total time=   0.4s\n",
      "[CV 2/5] END criterion=gini, max_depth=4, min_samples_leaf=11;, score=0.776 total time=   0.4s\n",
      "[CV 3/5] END criterion=gini, max_depth=4, min_samples_leaf=11;, score=0.776 total time=   0.4s\n",
      "[CV 4/5] END criterion=gini, max_depth=4, min_samples_leaf=11;, score=0.776 total time=   0.4s\n",
      "[CV 5/5] END criterion=gini, max_depth=4, min_samples_leaf=11;, score=0.776 total time=   0.4s\n",
      "[CV 1/5] END criterion=gini, max_depth=6, min_samples_leaf=5;, score=0.776 total time=   0.5s\n",
      "[CV 2/5] END criterion=gini, max_depth=6, min_samples_leaf=5;, score=0.776 total time=   0.5s\n",
      "[CV 3/5] END criterion=gini, max_depth=6, min_samples_leaf=5;, score=0.776 total time=   0.4s\n",
      "[CV 4/5] END criterion=gini, max_depth=6, min_samples_leaf=5;, score=0.776 total time=   0.4s\n",
      "[CV 5/5] END criterion=gini, max_depth=6, min_samples_leaf=5;, score=0.776 total time=   0.4s\n",
      "[CV 1/5] END criterion=gini, max_depth=6, min_samples_leaf=7;, score=0.776 total time=   0.4s\n",
      "[CV 2/5] END criterion=gini, max_depth=6, min_samples_leaf=7;, score=0.776 total time=   0.4s\n",
      "[CV 3/5] END criterion=gini, max_depth=6, min_samples_leaf=7;, score=0.776 total time=   0.4s\n",
      "[CV 4/5] END criterion=gini, max_depth=6, min_samples_leaf=7;, score=0.776 total time=   0.4s\n",
      "[CV 5/5] END criterion=gini, max_depth=6, min_samples_leaf=7;, score=0.776 total time=   0.4s\n",
      "[CV 1/5] END criterion=gini, max_depth=6, min_samples_leaf=9;, score=0.776 total time=   0.4s\n",
      "[CV 2/5] END criterion=gini, max_depth=6, min_samples_leaf=9;, score=0.776 total time=   0.4s\n",
      "[CV 3/5] END criterion=gini, max_depth=6, min_samples_leaf=9;, score=0.776 total time=   0.4s\n",
      "[CV 4/5] END criterion=gini, max_depth=6, min_samples_leaf=9;, score=0.776 total time=   0.4s\n",
      "[CV 5/5] END criterion=gini, max_depth=6, min_samples_leaf=9;, score=0.776 total time=   0.4s\n",
      "[CV 1/5] END criterion=gini, max_depth=6, min_samples_leaf=11;, score=0.776 total time=   0.4s\n",
      "[CV 2/5] END criterion=gini, max_depth=6, min_samples_leaf=11;, score=0.776 total time=   0.5s\n",
      "[CV 3/5] END criterion=gini, max_depth=6, min_samples_leaf=11;, score=0.776 total time=   0.5s\n",
      "[CV 4/5] END criterion=gini, max_depth=6, min_samples_leaf=11;, score=0.776 total time=   0.4s\n",
      "[CV 5/5] END criterion=gini, max_depth=6, min_samples_leaf=11;, score=0.776 total time=   0.4s\n",
      "[CV 1/5] END criterion=gini, max_depth=8, min_samples_leaf=5;, score=0.776 total time=   0.5s\n",
      "[CV 2/5] END criterion=gini, max_depth=8, min_samples_leaf=5;, score=0.776 total time=   0.5s\n",
      "[CV 3/5] END criterion=gini, max_depth=8, min_samples_leaf=5;, score=0.776 total time=   0.5s\n",
      "[CV 4/5] END criterion=gini, max_depth=8, min_samples_leaf=5;, score=0.776 total time=   0.5s\n",
      "[CV 5/5] END criterion=gini, max_depth=8, min_samples_leaf=5;, score=0.776 total time=   0.5s\n",
      "[CV 1/5] END criterion=gini, max_depth=8, min_samples_leaf=7;, score=0.776 total time=   0.5s\n",
      "[CV 2/5] END criterion=gini, max_depth=8, min_samples_leaf=7;, score=0.776 total time=   0.5s\n",
      "[CV 3/5] END criterion=gini, max_depth=8, min_samples_leaf=7;, score=0.776 total time=   0.5s\n",
      "[CV 4/5] END criterion=gini, max_depth=8, min_samples_leaf=7;, score=0.776 total time=   0.5s\n",
      "[CV 5/5] END criterion=gini, max_depth=8, min_samples_leaf=7;, score=0.776 total time=   0.5s\n",
      "[CV 1/5] END criterion=gini, max_depth=8, min_samples_leaf=9;, score=0.776 total time=   0.5s\n",
      "[CV 2/5] END criterion=gini, max_depth=8, min_samples_leaf=9;, score=0.776 total time=   0.5s\n",
      "[CV 3/5] END criterion=gini, max_depth=8, min_samples_leaf=9;, score=0.776 total time=   0.5s\n",
      "[CV 4/5] END criterion=gini, max_depth=8, min_samples_leaf=9;, score=0.776 total time=   0.5s\n",
      "[CV 5/5] END criterion=gini, max_depth=8, min_samples_leaf=9;, score=0.776 total time=   0.5s\n",
      "[CV 1/5] END criterion=gini, max_depth=8, min_samples_leaf=11;, score=0.776 total time=   0.5s\n",
      "[CV 2/5] END criterion=gini, max_depth=8, min_samples_leaf=11;, score=0.776 total time=   0.5s\n",
      "[CV 3/5] END criterion=gini, max_depth=8, min_samples_leaf=11;, score=0.776 total time=   0.5s\n",
      "[CV 4/5] END criterion=gini, max_depth=8, min_samples_leaf=11;, score=0.776 total time=   0.5s\n",
      "[CV 5/5] END criterion=gini, max_depth=8, min_samples_leaf=11;, score=0.776 total time=   0.5s\n",
      "[CV 1/5] END criterion=gini, max_depth=10, min_samples_leaf=5;, score=0.776 total time=   0.6s\n",
      "[CV 2/5] END criterion=gini, max_depth=10, min_samples_leaf=5;, score=0.776 total time=   0.6s\n",
      "[CV 3/5] END criterion=gini, max_depth=10, min_samples_leaf=5;, score=0.776 total time=   0.6s\n",
      "[CV 4/5] END criterion=gini, max_depth=10, min_samples_leaf=5;, score=0.776 total time=   0.6s\n",
      "[CV 5/5] END criterion=gini, max_depth=10, min_samples_leaf=5;, score=0.776 total time=   0.6s\n",
      "[CV 1/5] END criterion=gini, max_depth=10, min_samples_leaf=7;, score=0.775 total time=   0.6s\n",
      "[CV 2/5] END criterion=gini, max_depth=10, min_samples_leaf=7;, score=0.776 total time=   0.6s\n"
     ]
    },
    {
     "name": "stdout",
     "output_type": "stream",
     "text": [
      "[CV 3/5] END criterion=gini, max_depth=10, min_samples_leaf=7;, score=0.776 total time=   0.6s\n",
      "[CV 4/5] END criterion=gini, max_depth=10, min_samples_leaf=7;, score=0.776 total time=   0.6s\n",
      "[CV 5/5] END criterion=gini, max_depth=10, min_samples_leaf=7;, score=0.776 total time=   0.6s\n",
      "[CV 1/5] END criterion=gini, max_depth=10, min_samples_leaf=9;, score=0.776 total time=   0.5s\n",
      "[CV 2/5] END criterion=gini, max_depth=10, min_samples_leaf=9;, score=0.776 total time=   0.6s\n",
      "[CV 3/5] END criterion=gini, max_depth=10, min_samples_leaf=9;, score=0.776 total time=   0.6s\n",
      "[CV 4/5] END criterion=gini, max_depth=10, min_samples_leaf=9;, score=0.776 total time=   0.6s\n",
      "[CV 5/5] END criterion=gini, max_depth=10, min_samples_leaf=9;, score=0.776 total time=   0.6s\n",
      "[CV 1/5] END criterion=gini, max_depth=10, min_samples_leaf=11;, score=0.776 total time=   0.6s\n",
      "[CV 2/5] END criterion=gini, max_depth=10, min_samples_leaf=11;, score=0.776 total time=   0.5s\n",
      "[CV 3/5] END criterion=gini, max_depth=10, min_samples_leaf=11;, score=0.776 total time=   0.5s\n",
      "[CV 4/5] END criterion=gini, max_depth=10, min_samples_leaf=11;, score=0.776 total time=   0.6s\n",
      "[CV 5/5] END criterion=gini, max_depth=10, min_samples_leaf=11;, score=0.776 total time=   0.6s\n",
      "[CV 1/5] END criterion=gini, max_depth=17, min_samples_leaf=5;, score=0.778 total time=   0.8s\n",
      "[CV 2/5] END criterion=gini, max_depth=17, min_samples_leaf=5;, score=0.778 total time=   0.8s\n",
      "[CV 3/5] END criterion=gini, max_depth=17, min_samples_leaf=5;, score=0.777 total time=   0.8s\n",
      "[CV 4/5] END criterion=gini, max_depth=17, min_samples_leaf=5;, score=0.775 total time=   0.8s\n",
      "[CV 5/5] END criterion=gini, max_depth=17, min_samples_leaf=5;, score=0.777 total time=   0.8s\n",
      "[CV 1/5] END criterion=gini, max_depth=17, min_samples_leaf=7;, score=0.777 total time=   0.7s\n",
      "[CV 2/5] END criterion=gini, max_depth=17, min_samples_leaf=7;, score=0.777 total time=   0.7s\n",
      "[CV 3/5] END criterion=gini, max_depth=17, min_samples_leaf=7;, score=0.776 total time=   0.7s\n",
      "[CV 4/5] END criterion=gini, max_depth=17, min_samples_leaf=7;, score=0.777 total time=   0.7s\n",
      "[CV 5/5] END criterion=gini, max_depth=17, min_samples_leaf=7;, score=0.777 total time=   0.7s\n",
      "[CV 1/5] END criterion=gini, max_depth=17, min_samples_leaf=9;, score=0.778 total time=   0.7s\n",
      "[CV 2/5] END criterion=gini, max_depth=17, min_samples_leaf=9;, score=0.776 total time=   0.7s\n",
      "[CV 3/5] END criterion=gini, max_depth=17, min_samples_leaf=9;, score=0.775 total time=   0.7s\n",
      "[CV 4/5] END criterion=gini, max_depth=17, min_samples_leaf=9;, score=0.777 total time=   0.7s\n",
      "[CV 5/5] END criterion=gini, max_depth=17, min_samples_leaf=9;, score=0.776 total time=   0.7s\n",
      "[CV 1/5] END criterion=gini, max_depth=17, min_samples_leaf=11;, score=0.775 total time=   0.6s\n",
      "[CV 2/5] END criterion=gini, max_depth=17, min_samples_leaf=11;, score=0.776 total time=   0.6s\n",
      "[CV 3/5] END criterion=gini, max_depth=17, min_samples_leaf=11;, score=0.776 total time=   0.6s\n",
      "[CV 4/5] END criterion=gini, max_depth=17, min_samples_leaf=11;, score=0.776 total time=   0.6s\n",
      "[CV 5/5] END criterion=gini, max_depth=17, min_samples_leaf=11;, score=0.776 total time=   0.6s\n",
      "[CV 1/5] END criterion=entropy, max_depth=3, min_samples_leaf=5;, score=0.776 total time=   0.3s\n",
      "[CV 2/5] END criterion=entropy, max_depth=3, min_samples_leaf=5;, score=0.776 total time=   0.4s\n",
      "[CV 3/5] END criterion=entropy, max_depth=3, min_samples_leaf=5;, score=0.776 total time=   0.3s\n",
      "[CV 4/5] END criterion=entropy, max_depth=3, min_samples_leaf=5;, score=0.776 total time=   0.3s\n",
      "[CV 5/5] END criterion=entropy, max_depth=3, min_samples_leaf=5;, score=0.776 total time=   0.3s\n",
      "[CV 1/5] END criterion=entropy, max_depth=3, min_samples_leaf=7;, score=0.776 total time=   0.3s\n",
      "[CV 2/5] END criterion=entropy, max_depth=3, min_samples_leaf=7;, score=0.776 total time=   0.3s\n",
      "[CV 3/5] END criterion=entropy, max_depth=3, min_samples_leaf=7;, score=0.776 total time=   0.3s\n",
      "[CV 4/5] END criterion=entropy, max_depth=3, min_samples_leaf=7;, score=0.776 total time=   0.3s\n",
      "[CV 5/5] END criterion=entropy, max_depth=3, min_samples_leaf=7;, score=0.776 total time=   0.3s\n",
      "[CV 1/5] END criterion=entropy, max_depth=3, min_samples_leaf=9;, score=0.776 total time=   0.3s\n",
      "[CV 2/5] END criterion=entropy, max_depth=3, min_samples_leaf=9;, score=0.776 total time=   0.3s\n",
      "[CV 3/5] END criterion=entropy, max_depth=3, min_samples_leaf=9;, score=0.776 total time=   0.3s\n",
      "[CV 4/5] END criterion=entropy, max_depth=3, min_samples_leaf=9;, score=0.776 total time=   0.3s\n",
      "[CV 5/5] END criterion=entropy, max_depth=3, min_samples_leaf=9;, score=0.776 total time=   0.3s\n",
      "[CV 1/5] END criterion=entropy, max_depth=3, min_samples_leaf=11;, score=0.776 total time=   0.3s\n",
      "[CV 2/5] END criterion=entropy, max_depth=3, min_samples_leaf=11;, score=0.776 total time=   0.3s\n",
      "[CV 3/5] END criterion=entropy, max_depth=3, min_samples_leaf=11;, score=0.776 total time=   0.3s\n",
      "[CV 4/5] END criterion=entropy, max_depth=3, min_samples_leaf=11;, score=0.776 total time=   0.3s\n",
      "[CV 5/5] END criterion=entropy, max_depth=3, min_samples_leaf=11;, score=0.776 total time=   0.3s\n",
      "[CV 1/5] END criterion=entropy, max_depth=4, min_samples_leaf=5;, score=0.776 total time=   0.4s\n",
      "[CV 2/5] END criterion=entropy, max_depth=4, min_samples_leaf=5;, score=0.776 total time=   0.4s\n",
      "[CV 3/5] END criterion=entropy, max_depth=4, min_samples_leaf=5;, score=0.776 total time=   0.4s\n",
      "[CV 4/5] END criterion=entropy, max_depth=4, min_samples_leaf=5;, score=0.776 total time=   0.4s\n",
      "[CV 5/5] END criterion=entropy, max_depth=4, min_samples_leaf=5;, score=0.776 total time=   0.4s\n",
      "[CV 1/5] END criterion=entropy, max_depth=4, min_samples_leaf=7;, score=0.776 total time=   0.4s\n",
      "[CV 2/5] END criterion=entropy, max_depth=4, min_samples_leaf=7;, score=0.776 total time=   0.4s\n",
      "[CV 3/5] END criterion=entropy, max_depth=4, min_samples_leaf=7;, score=0.776 total time=   0.4s\n",
      "[CV 4/5] END criterion=entropy, max_depth=4, min_samples_leaf=7;, score=0.776 total time=   0.4s\n",
      "[CV 5/5] END criterion=entropy, max_depth=4, min_samples_leaf=7;, score=0.776 total time=   0.4s\n",
      "[CV 1/5] END criterion=entropy, max_depth=4, min_samples_leaf=9;, score=0.776 total time=   0.4s\n",
      "[CV 2/5] END criterion=entropy, max_depth=4, min_samples_leaf=9;, score=0.776 total time=   0.4s\n",
      "[CV 3/5] END criterion=entropy, max_depth=4, min_samples_leaf=9;, score=0.776 total time=   0.4s\n",
      "[CV 4/5] END criterion=entropy, max_depth=4, min_samples_leaf=9;, score=0.776 total time=   0.4s\n",
      "[CV 5/5] END criterion=entropy, max_depth=4, min_samples_leaf=9;, score=0.776 total time=   0.4s\n",
      "[CV 1/5] END criterion=entropy, max_depth=4, min_samples_leaf=11;, score=0.776 total time=   0.4s\n",
      "[CV 2/5] END criterion=entropy, max_depth=4, min_samples_leaf=11;, score=0.776 total time=   0.4s\n",
      "[CV 3/5] END criterion=entropy, max_depth=4, min_samples_leaf=11;, score=0.776 total time=   0.4s\n",
      "[CV 4/5] END criterion=entropy, max_depth=4, min_samples_leaf=11;, score=0.776 total time=   0.4s\n",
      "[CV 5/5] END criterion=entropy, max_depth=4, min_samples_leaf=11;, score=0.776 total time=   0.4s\n",
      "[CV 1/5] END criterion=entropy, max_depth=6, min_samples_leaf=5;, score=0.776 total time=   0.5s\n",
      "[CV 2/5] END criterion=entropy, max_depth=6, min_samples_leaf=5;, score=0.776 total time=   0.4s\n",
      "[CV 3/5] END criterion=entropy, max_depth=6, min_samples_leaf=5;, score=0.776 total time=   0.5s\n",
      "[CV 4/5] END criterion=entropy, max_depth=6, min_samples_leaf=5;, score=0.776 total time=   0.4s\n",
      "[CV 5/5] END criterion=entropy, max_depth=6, min_samples_leaf=5;, score=0.776 total time=   0.4s\n",
      "[CV 1/5] END criterion=entropy, max_depth=6, min_samples_leaf=7;, score=0.776 total time=   0.4s\n",
      "[CV 2/5] END criterion=entropy, max_depth=6, min_samples_leaf=7;, score=0.776 total time=   0.5s\n",
      "[CV 3/5] END criterion=entropy, max_depth=6, min_samples_leaf=7;, score=0.776 total time=   0.5s\n",
      "[CV 4/5] END criterion=entropy, max_depth=6, min_samples_leaf=7;, score=0.776 total time=   0.5s\n",
      "[CV 5/5] END criterion=entropy, max_depth=6, min_samples_leaf=7;, score=0.776 total time=   0.4s\n",
      "[CV 1/5] END criterion=entropy, max_depth=6, min_samples_leaf=9;, score=0.776 total time=   0.4s\n",
      "[CV 2/5] END criterion=entropy, max_depth=6, min_samples_leaf=9;, score=0.776 total time=   0.4s\n"
     ]
    },
    {
     "name": "stdout",
     "output_type": "stream",
     "text": [
      "[CV 3/5] END criterion=entropy, max_depth=6, min_samples_leaf=9;, score=0.776 total time=   0.4s\n",
      "[CV 4/5] END criterion=entropy, max_depth=6, min_samples_leaf=9;, score=0.776 total time=   0.4s\n",
      "[CV 5/5] END criterion=entropy, max_depth=6, min_samples_leaf=9;, score=0.776 total time=   0.4s\n",
      "[CV 1/5] END criterion=entropy, max_depth=6, min_samples_leaf=11;, score=0.776 total time=   0.4s\n",
      "[CV 2/5] END criterion=entropy, max_depth=6, min_samples_leaf=11;, score=0.776 total time=   0.4s\n",
      "[CV 3/5] END criterion=entropy, max_depth=6, min_samples_leaf=11;, score=0.776 total time=   0.5s\n",
      "[CV 4/5] END criterion=entropy, max_depth=6, min_samples_leaf=11;, score=0.776 total time=   0.5s\n",
      "[CV 5/5] END criterion=entropy, max_depth=6, min_samples_leaf=11;, score=0.776 total time=   0.5s\n",
      "[CV 1/5] END criterion=entropy, max_depth=8, min_samples_leaf=5;, score=0.776 total time=   0.5s\n",
      "[CV 2/5] END criterion=entropy, max_depth=8, min_samples_leaf=5;, score=0.776 total time=   0.5s\n",
      "[CV 3/5] END criterion=entropy, max_depth=8, min_samples_leaf=5;, score=0.776 total time=   0.5s\n",
      "[CV 4/5] END criterion=entropy, max_depth=8, min_samples_leaf=5;, score=0.776 total time=   0.5s\n",
      "[CV 5/5] END criterion=entropy, max_depth=8, min_samples_leaf=5;, score=0.776 total time=   0.5s\n",
      "[CV 1/5] END criterion=entropy, max_depth=8, min_samples_leaf=7;, score=0.776 total time=   0.5s\n",
      "[CV 2/5] END criterion=entropy, max_depth=8, min_samples_leaf=7;, score=0.776 total time=   0.5s\n",
      "[CV 3/5] END criterion=entropy, max_depth=8, min_samples_leaf=7;, score=0.776 total time=   0.5s\n",
      "[CV 4/5] END criterion=entropy, max_depth=8, min_samples_leaf=7;, score=0.776 total time=   0.5s\n",
      "[CV 5/5] END criterion=entropy, max_depth=8, min_samples_leaf=7;, score=0.776 total time=   0.5s\n",
      "[CV 1/5] END criterion=entropy, max_depth=8, min_samples_leaf=9;, score=0.776 total time=   0.5s\n",
      "[CV 2/5] END criterion=entropy, max_depth=8, min_samples_leaf=9;, score=0.776 total time=   0.5s\n",
      "[CV 3/5] END criterion=entropy, max_depth=8, min_samples_leaf=9;, score=0.776 total time=   0.5s\n",
      "[CV 4/5] END criterion=entropy, max_depth=8, min_samples_leaf=9;, score=0.776 total time=   0.5s\n",
      "[CV 5/5] END criterion=entropy, max_depth=8, min_samples_leaf=9;, score=0.776 total time=   0.5s\n",
      "[CV 1/5] END criterion=entropy, max_depth=8, min_samples_leaf=11;, score=0.776 total time=   0.5s\n",
      "[CV 2/5] END criterion=entropy, max_depth=8, min_samples_leaf=11;, score=0.776 total time=   0.5s\n",
      "[CV 3/5] END criterion=entropy, max_depth=8, min_samples_leaf=11;, score=0.776 total time=   0.5s\n",
      "[CV 4/5] END criterion=entropy, max_depth=8, min_samples_leaf=11;, score=0.776 total time=   0.5s\n",
      "[CV 5/5] END criterion=entropy, max_depth=8, min_samples_leaf=11;, score=0.776 total time=   0.5s\n",
      "[CV 1/5] END criterion=entropy, max_depth=10, min_samples_leaf=5;, score=0.774 total time=   0.6s\n",
      "[CV 2/5] END criterion=entropy, max_depth=10, min_samples_leaf=5;, score=0.776 total time=   0.6s\n",
      "[CV 3/5] END criterion=entropy, max_depth=10, min_samples_leaf=5;, score=0.776 total time=   0.6s\n",
      "[CV 4/5] END criterion=entropy, max_depth=10, min_samples_leaf=5;, score=0.776 total time=   0.6s\n",
      "[CV 5/5] END criterion=entropy, max_depth=10, min_samples_leaf=5;, score=0.776 total time=   0.6s\n",
      "[CV 1/5] END criterion=entropy, max_depth=10, min_samples_leaf=7;, score=0.776 total time=   0.6s\n",
      "[CV 2/5] END criterion=entropy, max_depth=10, min_samples_leaf=7;, score=0.776 total time=   0.6s\n",
      "[CV 3/5] END criterion=entropy, max_depth=10, min_samples_leaf=7;, score=0.776 total time=   0.6s\n",
      "[CV 4/5] END criterion=entropy, max_depth=10, min_samples_leaf=7;, score=0.776 total time=   0.6s\n",
      "[CV 5/5] END criterion=entropy, max_depth=10, min_samples_leaf=7;, score=0.776 total time=   0.6s\n",
      "[CV 1/5] END criterion=entropy, max_depth=10, min_samples_leaf=9;, score=0.776 total time=   0.6s\n",
      "[CV 2/5] END criterion=entropy, max_depth=10, min_samples_leaf=9;, score=0.776 total time=   0.6s\n",
      "[CV 3/5] END criterion=entropy, max_depth=10, min_samples_leaf=9;, score=0.776 total time=   0.6s\n",
      "[CV 4/5] END criterion=entropy, max_depth=10, min_samples_leaf=9;, score=0.776 total time=   0.6s\n",
      "[CV 5/5] END criterion=entropy, max_depth=10, min_samples_leaf=9;, score=0.776 total time=   0.6s\n",
      "[CV 1/5] END criterion=entropy, max_depth=10, min_samples_leaf=11;, score=0.776 total time=   0.6s\n",
      "[CV 2/5] END criterion=entropy, max_depth=10, min_samples_leaf=11;, score=0.776 total time=   0.6s\n",
      "[CV 3/5] END criterion=entropy, max_depth=10, min_samples_leaf=11;, score=0.776 total time=   0.5s\n",
      "[CV 4/5] END criterion=entropy, max_depth=10, min_samples_leaf=11;, score=0.776 total time=   0.5s\n",
      "[CV 5/5] END criterion=entropy, max_depth=10, min_samples_leaf=11;, score=0.776 total time=   0.6s\n",
      "[CV 1/5] END criterion=entropy, max_depth=17, min_samples_leaf=5;, score=0.777 total time=   0.9s\n",
      "[CV 2/5] END criterion=entropy, max_depth=17, min_samples_leaf=5;, score=0.777 total time=   0.8s\n",
      "[CV 3/5] END criterion=entropy, max_depth=17, min_samples_leaf=5;, score=0.775 total time=   0.7s\n",
      "[CV 4/5] END criterion=entropy, max_depth=17, min_samples_leaf=5;, score=0.777 total time=   0.7s\n",
      "[CV 5/5] END criterion=entropy, max_depth=17, min_samples_leaf=5;, score=0.779 total time=   0.7s\n",
      "[CV 1/5] END criterion=entropy, max_depth=17, min_samples_leaf=7;, score=0.776 total time=   0.7s\n",
      "[CV 2/5] END criterion=entropy, max_depth=17, min_samples_leaf=7;, score=0.776 total time=   0.7s\n",
      "[CV 3/5] END criterion=entropy, max_depth=17, min_samples_leaf=7;, score=0.775 total time=   0.7s\n",
      "[CV 4/5] END criterion=entropy, max_depth=17, min_samples_leaf=7;, score=0.776 total time=   0.7s\n",
      "[CV 5/5] END criterion=entropy, max_depth=17, min_samples_leaf=7;, score=0.776 total time=   0.7s\n",
      "[CV 1/5] END criterion=entropy, max_depth=17, min_samples_leaf=9;, score=0.775 total time=   0.7s\n",
      "[CV 2/5] END criterion=entropy, max_depth=17, min_samples_leaf=9;, score=0.776 total time=   0.7s\n",
      "[CV 3/5] END criterion=entropy, max_depth=17, min_samples_leaf=9;, score=0.776 total time=   0.7s\n",
      "[CV 4/5] END criterion=entropy, max_depth=17, min_samples_leaf=9;, score=0.776 total time=   0.7s\n",
      "[CV 5/5] END criterion=entropy, max_depth=17, min_samples_leaf=9;, score=0.776 total time=   0.7s\n",
      "[CV 1/5] END criterion=entropy, max_depth=17, min_samples_leaf=11;, score=0.777 total time=   0.6s\n",
      "[CV 2/5] END criterion=entropy, max_depth=17, min_samples_leaf=11;, score=0.776 total time=   0.6s\n",
      "[CV 3/5] END criterion=entropy, max_depth=17, min_samples_leaf=11;, score=0.776 total time=   0.7s\n",
      "[CV 4/5] END criterion=entropy, max_depth=17, min_samples_leaf=11;, score=0.776 total time=   0.7s\n",
      "[CV 5/5] END criterion=entropy, max_depth=17, min_samples_leaf=11;, score=0.776 total time=   0.7s\n",
      "Best cross-validation score: 0.78\n",
      "Best parameters:  {'criterion': 'entropy', 'max_depth': 17, 'min_samples_leaf': 5}\n"
     ]
    }
   ],
   "source": [
    "param_grid={'criterion': ['gini', 'entropy'],\n",
    "                         'max_depth': [3, 4, 6, 8, 10, 17],\n",
    "                         'min_samples_leaf': [5, 7, 9, 11]},\n",
    "\n",
    "grid = GridSearchCV(RandomForestClassifier(random_state=42), param_grid, scoring = 'accuracy', cv=5, verbose = 5)\n",
    "grid.fit(X_train, Y_train)\n",
    "\n",
    "# print the best score obtained\n",
    "print(\"Best cross-validation score: {:.2f}\".format(grid.best_score_))\n",
    "\n",
    "#print the parameters that acheived the best score\n",
    "print(\"Best parameters: \", grid.best_params_)"
   ]
  },
  {
   "cell_type": "code",
   "execution_count": 35,
   "id": "67315bef",
   "metadata": {},
   "outputs": [],
   "source": [
    "y_pred=rtree.predict(X_test)"
   ]
  },
  {
   "cell_type": "code",
   "execution_count": 36,
   "id": "b76a34a7",
   "metadata": {},
   "outputs": [
    {
     "name": "stdout",
     "output_type": "stream",
     "text": [
      "Accuracy:  0.7562630480167014\n"
     ]
    }
   ],
   "source": [
    "#print('Accuracy: ', sum(Y_test==y_pred)/len(Y_test)) # by hand\n",
    "\n",
    "from sklearn import metrics # by using metrics library\n",
    "print('Accuracy of test set: ',metrics.accuracy_score(Y_test,y_pred))"
   ]
  },
  {
   "cell_type": "markdown",
   "id": "bda781a6",
   "metadata": {},
   "source": [
    "Prunet random forrest"
   ]
  },
  {
   "cell_type": "code",
   "execution_count": 27,
   "id": "c206b4b1",
   "metadata": {},
   "outputs": [
    {
     "data": {
      "text/plain": [
       "RandomForestClassifier(max_depth=17, min_samples_leaf=5)"
      ]
     },
     "execution_count": 27,
     "metadata": {},
     "output_type": "execute_result"
    }
   ],
   "source": [
    "ptree = RandomForestClassifier(max_depth=17, min_samples_leaf=5) \n",
    "ptree.fit(X_train, Y_train)"
   ]
  },
  {
   "cell_type": "code",
   "execution_count": 37,
   "id": "554b8a60",
   "metadata": {},
   "outputs": [
    {
     "name": "stdout",
     "output_type": "stream",
     "text": [
      "Accuracy on training set: 0.783\n"
     ]
    }
   ],
   "source": [
    "print(\"Accuracy on training set: {:.3f}\".format(ptree.score(X_train, Y_train)))"
   ]
  },
  {
   "cell_type": "code",
   "execution_count": 28,
   "id": "9b0f86d4",
   "metadata": {},
   "outputs": [],
   "source": [
    "y_pred=ptree.predict(X_test)"
   ]
  },
  {
   "cell_type": "code",
   "execution_count": 29,
   "id": "982b70dd",
   "metadata": {},
   "outputs": [
    {
     "name": "stdout",
     "output_type": "stream",
     "text": [
      "Accuracy:  0.7708768267223383\n"
     ]
    }
   ],
   "source": [
    "#print('Accuracy: ', sum(Y_test==y_pred)/len(Y_test)) # by hand\n",
    "\n",
    "from sklearn import metrics # by using metrics library\n",
    "print('Accuracy of terst set: ',metrics.accuracy_score(Y_test,y_pred))"
   ]
  },
  {
   "cell_type": "markdown",
   "id": "7e601d57",
   "metadata": {},
   "source": [
    "Results: Random forrwst alone without tuning/pruning, overfits the data(0.923). Using grid-search for tuning/pruning the forrest, we have a less overfitted tree having accuricy on triaining data being 0.78, and accuracy on our test data being 0.77. This result is very good, since having train and test accuracy being similar numbers means that the tree is no longer overfitting. "
   ]
  },
  {
   "cell_type": "markdown",
   "id": "208c5a7a",
   "metadata": {},
   "source": [
    "Adaboosted tree"
   ]
  },
  {
   "cell_type": "code",
   "execution_count": 18,
   "id": "59a4279b",
   "metadata": {},
   "outputs": [
    {
     "data": {
      "text/plain": [
       "AdaBoostClassifier()"
      ]
     },
     "execution_count": 18,
     "metadata": {},
     "output_type": "execute_result"
    }
   ],
   "source": [
    "atree = AdaBoostClassifier()\n",
    "atree.fit(X_train, Y_train)"
   ]
  },
  {
   "cell_type": "code",
   "execution_count": 19,
   "id": "de43c007",
   "metadata": {},
   "outputs": [
    {
     "name": "stdout",
     "output_type": "stream",
     "text": [
      "Accuracy on training set: 0.785\n"
     ]
    }
   ],
   "source": [
    "print(\"Accuracy on training set: {:.3f}\".format(atree.score(X_train, Y_train)))"
   ]
  },
  {
   "cell_type": "code",
   "execution_count": 20,
   "id": "6fded876",
   "metadata": {},
   "outputs": [],
   "source": [
    "y_pred=atree.predict(X_test)"
   ]
  },
  {
   "cell_type": "code",
   "execution_count": 29,
   "id": "ad9c4177",
   "metadata": {},
   "outputs": [
    {
     "name": "stdout",
     "output_type": "stream",
     "text": [
      "Accuracy of test set:  0.7823590814196242\n"
     ]
    }
   ],
   "source": [
    "#print('Accuracy: ', sum(Y_test==y_pred)/len(Y_test)) # by hand\n",
    "\n",
    "from sklearn import metrics # by using metrics library\n",
    "print('Accuracy of test set: ',metrics.accuracy_score(Y_test,y_pred))"
   ]
  },
  {
   "cell_type": "markdown",
   "id": "c1dda305",
   "metadata": {},
   "source": [
    "Logistic regression"
   ]
  },
  {
   "cell_type": "code",
   "execution_count": 28,
   "id": "8891b541",
   "metadata": {},
   "outputs": [
    {
     "name": "stdout",
     "output_type": "stream",
     "text": [
      "Score of training set: 0.786\n",
      "Accuracy of test set:  0.7823590814196242\n",
      "[[ 0.33318173  0.11161094  0.01299747  0.0301925   0.45604812 -0.01366659\n",
      "  -0.11230222 -0.22889539  0.19786414  0.21178047  0.17804966 -0.07488067\n",
      "   0.03099738 -0.13081208 -0.6175664   0.08155703  0.23447481  0.09399238\n",
      "   0.0678785  -0.04127586 -0.03716527 -0.0252835   0.08203121 -0.02974923\n",
      "  -0.13679691 -0.00853457  0.0596529  -0.38837193  0.08126496  0.0034605\n",
      "  -0.07136044 -0.0787831  -0.19844915  0.11595541 -0.67595011 -0.09074984\n",
      "  -0.24091433  0.         -0.16999483  0.077592   -0.44256798  0.29350059\n",
      "  -0.30115432  0.10866357 -0.11109012  0.24343526 -0.05218734 -0.23066175\n",
      "  -0.09110079 -0.00914165  0.70392589  0.04958974  0.12066466 -0.39821744\n",
      "  -0.24803195 -0.05800789 -0.07753132 -0.00894599 -0.14777552  0.07156118\n",
      "   0.01996056  0.0087377   0.04704883  0.03941119 -0.79972728  0.12133883\n",
      "  -0.23250306 -0.08064603  0.17966216 -0.05297239  0.07600835 -0.28358756\n",
      "  -0.09157869  0.92867632  0.16633719 -0.04460769  0.14430462  0.20508637\n",
      "  -0.21151857 -0.04672839  0.08773991  0.74021315 -0.1581805   0.09571439\n",
      "  -0.15518297  0.12336314  0.0896198  -0.21156858  0.38713761  0.20723802\n",
      "  -0.03331394 -0.03425023 -0.22085337 -0.14670512 -0.1188423   0.11962269\n",
      "  -0.17150335 -0.11944115  0.01558107 -0.24214417 -0.26963632 -0.21681706\n",
      "   0.10829176  0.18068918  0.13218073 -0.60083174 -0.08257265  0.03153385\n",
      "  -0.18004421 -0.15495001  0.06423069  0.02993318  0.11185651  0.12593102\n",
      "   0.05150489  0.59894178  0.07440802 -0.12756211 -0.19461173 -0.00722105\n",
      "  -0.17137193 -0.04685041  0.10941058  0.56010182  0.48379703 -0.2870635\n",
      "  -0.41455507 -0.39372408 -0.47527952 -0.51497378 -0.76858488 -0.79870577\n",
      "  -0.35234038 -0.13251252  0.1403996  -0.30866395  0.1317816   0.30032941\n",
      "  -1.54740533 -0.41888235 -0.1310142  -0.10664058 -0.15688054 -0.20130524\n",
      "  -0.26883576 -0.95202596 -0.8736702   0.10503812  0.29591522  0.1329929\n",
      "   0.00819125]]\n"
     ]
    },
    {
     "name": "stderr",
     "output_type": "stream",
     "text": [
      "/opt/anaconda3/lib/python3.9/site-packages/sklearn/linear_model/_logistic.py:814: ConvergenceWarning: lbfgs failed to converge (status=1):\n",
      "STOP: TOTAL NO. of ITERATIONS REACHED LIMIT.\n",
      "\n",
      "Increase the number of iterations (max_iter) or scale the data as shown in:\n",
      "    https://scikit-learn.org/stable/modules/preprocessing.html\n",
      "Please also refer to the documentation for alternative solver options:\n",
      "    https://scikit-learn.org/stable/modules/linear_model.html#logistic-regression\n",
      "  n_iter_i = _check_optimize_result(\n"
     ]
    }
   ],
   "source": [
    "logr = LogisticRegression()\n",
    "logr.fit(X_train,Y_train)\n",
    "\n",
    "#print train score\n",
    "print(\"Score of training set: {:.3f}\".format(logr.score(X_train, Y_train)))\n",
    "\n",
    "#Print test score\n",
    "y_pred=logr.predict(X_test)\n",
    "print('Accuracy of test set: ',metrics.accuracy_score(Y_test,y_pred))\n",
    "\n",
    "#print coefficient\n",
    "coefficient = logr.coef_\n",
    "print(coefficient)"
   ]
  },
  {
   "cell_type": "markdown",
   "id": "35ddf547",
   "metadata": {},
   "source": [
    "\n",
    "Interpretation of coefficient: the change in the log-odds ratio for y per unit change in x; the change in log odds of a house having a \"high\" price for each.\n"
   ]
  },
  {
   "cell_type": "code",
   "execution_count": 24,
   "id": "d3986d57",
   "metadata": {},
   "outputs": [
    {
     "data": {
      "text/plain": [
       "array([[1.39540086, 1.11807778, 1.0130823 , 1.03065292, 1.57782627,\n",
       "        0.98642638, 0.8937741 , 0.79541173, 1.21879679, 1.23587655,\n",
       "        1.19488465, 0.9278542 , 1.03148281, 0.87738263, 0.53925517,\n",
       "        1.08497509, 1.26424462, 1.09855137, 1.07023527, 0.95956439,\n",
       "        0.96351688, 0.97503345, 1.08548969, 0.97068893, 0.87214733,\n",
       "        0.99150175, 1.06146805, 0.67816007, 1.08465825, 1.0034665 ,\n",
       "        0.93112622, 0.92424037, 0.82000147, 1.12294579, 0.5086729 ,\n",
       "        0.91324614, 0.78590896, 1.        , 0.84366918, 1.08068166,\n",
       "        0.64238467, 1.34111397, 0.73996357, 1.11478724, 0.8948581 ,\n",
       "        1.27562373, 0.94915103, 0.79400799, 0.91292569, 0.99090001,\n",
       "        2.02167401, 1.05083989, 1.1282465 , 0.671516  , 0.78033501,\n",
       "        0.94364251, 0.92539804, 0.9910939 , 0.86262474, 1.07418386,\n",
       "        1.02016111, 1.00877598, 1.04817319, 1.04019811, 0.44945152,\n",
       "        1.12900739, 0.79254733, 0.92252018, 1.19681297, 0.9484062 ,\n",
       "        1.07897158, 0.75307718, 0.91248951, 2.53115653, 1.18097125,\n",
       "        0.9563726 , 1.15523596, 1.2276311 , 0.80935425, 0.95434657,\n",
       "        1.09170415, 2.09638231, 0.85369568, 1.10044473, 0.85625849,\n",
       "        1.13129516, 1.09375836, 0.80931377, 1.47275914, 1.23027537,\n",
       "        0.96723486, 0.96632967, 0.80183425, 0.86354858, 0.88794782,\n",
       "        1.12707152, 0.84239745, 0.88741623, 1.01570309, 0.784943  ,\n",
       "        0.76365717, 0.80507724, 1.11437283, 1.19804275, 1.14131457,\n",
       "        0.54835536, 0.92074454, 1.03203631, 0.83523328, 0.85645799,\n",
       "        1.06633836, 1.03038568, 1.11835238, 1.13420393, 1.05285434,\n",
       "        1.82019162, 1.07724625, 0.88023874, 0.8231542 , 0.99280495,\n",
       "        0.84250816, 0.95423013, 1.11562031, 1.75085077, 1.62222235,\n",
       "        0.75046407, 0.66063415, 0.67454015, 0.62171125, 0.59751626,\n",
       "        0.46366875, 0.44991087, 0.70304078, 0.87589197, 1.15073354,\n",
       "        0.73442754, 1.14085912, 1.35030353, 0.2127994 , 0.65778158,\n",
       "        0.87720532, 0.89884868, 0.85480617, 0.81766281, 0.76426877,\n",
       "        0.38595829, 0.41741673, 1.11075295, 1.34435618, 1.14224189,\n",
       "        1.00822489]])"
      ]
     },
     "execution_count": 24,
     "metadata": {},
     "output_type": "execute_result"
    }
   ],
   "source": [
    "odds = np.exp(coefficient)\n",
    "odds"
   ]
  },
  {
   "cell_type": "markdown",
   "id": "9fb45478",
   "metadata": {},
   "source": [
    "So, the above tells us that, on average, for an increase of 1 for each x variable, the odds that the last new job will be 1 price is the above numbers — the odds only increase a tiny bit. (i.e. 1 would mean absolutely no effect).\n",
    "\n",
    "(look at lecture 4, and exercises lecture 4 to understand logistic regression and coefficients)"
   ]
  }
 ],
 "metadata": {
  "kernelspec": {
   "display_name": "Python 3 (ipykernel)",
   "language": "python",
   "name": "python3"
  },
  "language_info": {
   "codemirror_mode": {
    "name": "ipython",
    "version": 3
   },
   "file_extension": ".py",
   "mimetype": "text/x-python",
   "name": "python",
   "nbconvert_exporter": "python",
   "pygments_lexer": "ipython3",
   "version": "3.9.12"
  }
 },
 "nbformat": 4,
 "nbformat_minor": 5
}
